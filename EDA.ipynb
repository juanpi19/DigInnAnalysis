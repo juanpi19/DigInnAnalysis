{
 "cells": [
  {
   "cell_type": "code",
   "execution_count": 71,
   "metadata": {},
   "outputs": [],
   "source": [
    "import pandas as pd\n",
    "import seaborn as sns"
   ]
  },
  {
   "cell_type": "code",
   "execution_count": 2,
   "metadata": {},
   "outputs": [],
   "source": [
    "# Loading the data\n",
    "\n",
    "# Contains the date of the order, the restaurant ID, type of order (Delivery, Pick up, in store) and the food ordered\n",
    "df_orders = pd.read_pickle('orders.pickle')\n",
    "\n",
    "# Contains the restaurant ID and where it's located (Columbia, Midtown, Flatiron...)\n",
    "df_restaurants = pd.read_pickle('restaurants.pickle')\n",
    "\n",
    "# Conatins the item's name and the item's ID\n",
    "df_items = pd.read_pickle('items.pickle')\n",
    "\n",
    "# Contains the temperature and date\n",
    "df_weather = pd.read_pickle('weather.pickle')"
   ]
  },
  {
   "cell_type": "code",
   "execution_count": 3,
   "metadata": {},
   "outputs": [
    {
     "data": {
      "text/html": [
       "<div>\n",
       "<style scoped>\n",
       "    .dataframe tbody tr th:only-of-type {\n",
       "        vertical-align: middle;\n",
       "    }\n",
       "\n",
       "    .dataframe tbody tr th {\n",
       "        vertical-align: top;\n",
       "    }\n",
       "\n",
       "    .dataframe thead th {\n",
       "        text-align: right;\n",
       "    }\n",
       "</style>\n",
       "<table border=\"1\" class=\"dataframe\">\n",
       "  <thead>\n",
       "    <tr style=\"text-align: right;\">\n",
       "      <th></th>\n",
       "      <th>ORDER_ID</th>\n",
       "      <th>DATETIME</th>\n",
       "      <th>RESTAURANT_ID</th>\n",
       "      <th>TYPE</th>\n",
       "      <th>DRINKS</th>\n",
       "      <th>COOKIES</th>\n",
       "      <th>MAIN</th>\n",
       "      <th>BASE</th>\n",
       "      <th>SIDE_1</th>\n",
       "      <th>SIDE_2</th>\n",
       "      <th>MAIN_NAME</th>\n",
       "      <th>BASE_NAME</th>\n",
       "      <th>SIDE_1_NAME</th>\n",
       "      <th>SIDE_2_NAME</th>\n",
       "    </tr>\n",
       "  </thead>\n",
       "  <tbody>\n",
       "    <tr>\n",
       "      <th>0</th>\n",
       "      <td>O2226026</td>\n",
       "      <td>2018-12-07 19:17:45</td>\n",
       "      <td>R10001</td>\n",
       "      <td>PICKUP</td>\n",
       "      <td>2.0</td>\n",
       "      <td>2.0</td>\n",
       "      <td>NaN</td>\n",
       "      <td>NaN</td>\n",
       "      <td>NaN</td>\n",
       "      <td>NaN</td>\n",
       "      <td>NaN</td>\n",
       "      <td>NaN</td>\n",
       "      <td>NaN</td>\n",
       "      <td>NaN</td>\n",
       "    </tr>\n",
       "    <tr>\n",
       "      <th>1</th>\n",
       "      <td>O1279827</td>\n",
       "      <td>2018-07-14 21:23:43</td>\n",
       "      <td>R10006</td>\n",
       "      <td>IN_STORE</td>\n",
       "      <td>0.0</td>\n",
       "      <td>0.0</td>\n",
       "      <td>NaN</td>\n",
       "      <td>NaN</td>\n",
       "      <td>NaN</td>\n",
       "      <td>NaN</td>\n",
       "      <td>NaN</td>\n",
       "      <td>NaN</td>\n",
       "      <td>NaN</td>\n",
       "      <td>NaN</td>\n",
       "    </tr>\n",
       "    <tr>\n",
       "      <th>2</th>\n",
       "      <td>O689957</td>\n",
       "      <td>2018-04-12 13:14:42</td>\n",
       "      <td>R10002</td>\n",
       "      <td>PICKUP</td>\n",
       "      <td>0.0</td>\n",
       "      <td>2.0</td>\n",
       "      <td>I1</td>\n",
       "      <td>I7</td>\n",
       "      <td>I11</td>\n",
       "      <td>I8</td>\n",
       "      <td>Spicy Meatballs Marketbowl</td>\n",
       "      <td>Farro with Summer Vegetables</td>\n",
       "      <td>Charred Broccoli with Lemon</td>\n",
       "      <td>Cauliflower with Garlic and Parmesan</td>\n",
       "    </tr>\n",
       "    <tr>\n",
       "      <th>3</th>\n",
       "      <td>O1497863</td>\n",
       "      <td>2018-08-21 18:14:23</td>\n",
       "      <td>R10007</td>\n",
       "      <td>IN_STORE</td>\n",
       "      <td>1.0</td>\n",
       "      <td>0.0</td>\n",
       "      <td>I1</td>\n",
       "      <td>I5</td>\n",
       "      <td>I10</td>\n",
       "      <td>I9</td>\n",
       "      <td>Spicy Meatballs Marketbowl</td>\n",
       "      <td>Classic Brown Rice</td>\n",
       "      <td>Roasted Sweet Potatoes</td>\n",
       "      <td>Jasper Hill Mac &amp; Cheese</td>\n",
       "    </tr>\n",
       "    <tr>\n",
       "      <th>4</th>\n",
       "      <td>O1443303</td>\n",
       "      <td>2018-08-12 18:04:44</td>\n",
       "      <td>R10006</td>\n",
       "      <td>DELIVERY</td>\n",
       "      <td>0.0</td>\n",
       "      <td>0.0</td>\n",
       "      <td>I1</td>\n",
       "      <td>I6</td>\n",
       "      <td>I10</td>\n",
       "      <td>I11</td>\n",
       "      <td>Spicy Meatballs Marketbowl</td>\n",
       "      <td>Farm Greens with Mint</td>\n",
       "      <td>Roasted Sweet Potatoes</td>\n",
       "      <td>Charred Broccoli with Lemon</td>\n",
       "    </tr>\n",
       "  </tbody>\n",
       "</table>\n",
       "</div>"
      ],
      "text/plain": [
       "   ORDER_ID            DATETIME RESTAURANT_ID      TYPE  DRINKS  COOKIES MAIN  \\\n",
       "0  O2226026 2018-12-07 19:17:45        R10001    PICKUP     2.0      2.0  NaN   \n",
       "1  O1279827 2018-07-14 21:23:43        R10006  IN_STORE     0.0      0.0  NaN   \n",
       "2   O689957 2018-04-12 13:14:42        R10002    PICKUP     0.0      2.0   I1   \n",
       "3  O1497863 2018-08-21 18:14:23        R10007  IN_STORE     1.0      0.0   I1   \n",
       "4  O1443303 2018-08-12 18:04:44        R10006  DELIVERY     0.0      0.0   I1   \n",
       "\n",
       "  BASE SIDE_1 SIDE_2                   MAIN_NAME  \\\n",
       "0  NaN    NaN    NaN                         NaN   \n",
       "1  NaN    NaN    NaN                         NaN   \n",
       "2   I7    I11     I8  Spicy Meatballs Marketbowl   \n",
       "3   I5    I10     I9  Spicy Meatballs Marketbowl   \n",
       "4   I6    I10    I11  Spicy Meatballs Marketbowl   \n",
       "\n",
       "                      BASE_NAME                  SIDE_1_NAME  \\\n",
       "0                           NaN                          NaN   \n",
       "1                           NaN                          NaN   \n",
       "2  Farro with Summer Vegetables  Charred Broccoli with Lemon   \n",
       "3            Classic Brown Rice       Roasted Sweet Potatoes   \n",
       "4         Farm Greens with Mint       Roasted Sweet Potatoes   \n",
       "\n",
       "                            SIDE_2_NAME  \n",
       "0                                   NaN  \n",
       "1                                   NaN  \n",
       "2  Cauliflower with Garlic and Parmesan  \n",
       "3              Jasper Hill Mac & Cheese  \n",
       "4           Charred Broccoli with Lemon  "
      ]
     },
     "execution_count": 3,
     "metadata": {},
     "output_type": "execute_result"
    }
   ],
   "source": [
    "# Looking at the first 5 rows of the orders df\n",
    "df_orders.head()"
   ]
  },
  {
   "cell_type": "code",
   "execution_count": 4,
   "metadata": {},
   "outputs": [
    {
     "data": {
      "text/plain": [
       "(2392366, 14)"
      ]
     },
     "execution_count": 4,
     "metadata": {},
     "output_type": "execute_result"
    }
   ],
   "source": [
    "df_orders.shape"
   ]
  },
  {
   "cell_type": "code",
   "execution_count": 5,
   "metadata": {},
   "outputs": [
    {
     "data": {
      "text/html": [
       "<div>\n",
       "<style scoped>\n",
       "    .dataframe tbody tr th:only-of-type {\n",
       "        vertical-align: middle;\n",
       "    }\n",
       "\n",
       "    .dataframe tbody tr th {\n",
       "        vertical-align: top;\n",
       "    }\n",
       "\n",
       "    .dataframe thead th {\n",
       "        text-align: right;\n",
       "    }\n",
       "</style>\n",
       "<table border=\"1\" class=\"dataframe\">\n",
       "  <thead>\n",
       "    <tr style=\"text-align: right;\">\n",
       "      <th></th>\n",
       "      <th>RESTAURANT_ID</th>\n",
       "      <th>NAME</th>\n",
       "      <th>ADDRESS</th>\n",
       "      <th>LAT</th>\n",
       "      <th>LONG</th>\n",
       "      <th>OPENING_DATE</th>\n",
       "      <th>DELIVERY_START</th>\n",
       "    </tr>\n",
       "  </thead>\n",
       "  <tbody>\n",
       "    <tr>\n",
       "      <th>0</th>\n",
       "      <td>R10001</td>\n",
       "      <td>Columbia</td>\n",
       "      <td>2884 Broadway, New York, NY 10025</td>\n",
       "      <td>40.811470</td>\n",
       "      <td>-73.961230</td>\n",
       "      <td>2014-08-09</td>\n",
       "      <td>2017-01-01</td>\n",
       "    </tr>\n",
       "    <tr>\n",
       "      <th>1</th>\n",
       "      <td>R10002</td>\n",
       "      <td>Midtown</td>\n",
       "      <td>1379 6th Ave, New York, NY 10019</td>\n",
       "      <td>40.763640</td>\n",
       "      <td>-73.977960</td>\n",
       "      <td>2013-03-19</td>\n",
       "      <td>2018-05-01</td>\n",
       "    </tr>\n",
       "    <tr>\n",
       "      <th>2</th>\n",
       "      <td>R10003</td>\n",
       "      <td>Bryant Park</td>\n",
       "      <td>70 W 40th St, New York, NY 10018</td>\n",
       "      <td>40.752911</td>\n",
       "      <td>-73.983498</td>\n",
       "      <td>2013-05-21</td>\n",
       "      <td>2018-05-01</td>\n",
       "    </tr>\n",
       "    <tr>\n",
       "      <th>3</th>\n",
       "      <td>R10005</td>\n",
       "      <td>Flatiron</td>\n",
       "      <td>40 W 25th St, New York, NY 10010</td>\n",
       "      <td>40.743600</td>\n",
       "      <td>-73.991070</td>\n",
       "      <td>2013-11-14</td>\n",
       "      <td>2016-03-05</td>\n",
       "    </tr>\n",
       "    <tr>\n",
       "      <th>4</th>\n",
       "      <td>R10004</td>\n",
       "      <td>NYU</td>\n",
       "      <td>109 Macdougal St, New York, NY 10012</td>\n",
       "      <td>40.729930</td>\n",
       "      <td>-74.000820</td>\n",
       "      <td>2014-01-10</td>\n",
       "      <td>2017-01-01</td>\n",
       "    </tr>\n",
       "  </tbody>\n",
       "</table>\n",
       "</div>"
      ],
      "text/plain": [
       "  RESTAURANT_ID         NAME                               ADDRESS        LAT  \\\n",
       "0        R10001     Columbia     2884 Broadway, New York, NY 10025  40.811470   \n",
       "1        R10002      Midtown      1379 6th Ave, New York, NY 10019  40.763640   \n",
       "2        R10003  Bryant Park      70 W 40th St, New York, NY 10018  40.752911   \n",
       "3        R10005     Flatiron      40 W 25th St, New York, NY 10010  40.743600   \n",
       "4        R10004          NYU  109 Macdougal St, New York, NY 10012  40.729930   \n",
       "\n",
       "        LONG OPENING_DATE DELIVERY_START  \n",
       "0 -73.961230   2014-08-09     2017-01-01  \n",
       "1 -73.977960   2013-03-19     2018-05-01  \n",
       "2 -73.983498   2013-05-21     2018-05-01  \n",
       "3 -73.991070   2013-11-14     2016-03-05  \n",
       "4 -74.000820   2014-01-10     2017-01-01  "
      ]
     },
     "execution_count": 5,
     "metadata": {},
     "output_type": "execute_result"
    }
   ],
   "source": [
    "# Looking at the first 5 rows of the restaurants df\n",
    "df_restaurants.head()"
   ]
  },
  {
   "cell_type": "code",
   "execution_count": 6,
   "metadata": {},
   "outputs": [
    {
     "data": {
      "text/html": [
       "<div>\n",
       "<style scoped>\n",
       "    .dataframe tbody tr th:only-of-type {\n",
       "        vertical-align: middle;\n",
       "    }\n",
       "\n",
       "    .dataframe tbody tr th {\n",
       "        vertical-align: top;\n",
       "    }\n",
       "\n",
       "    .dataframe thead th {\n",
       "        text-align: right;\n",
       "    }\n",
       "</style>\n",
       "<table border=\"1\" class=\"dataframe\">\n",
       "  <thead>\n",
       "    <tr style=\"text-align: right;\">\n",
       "      <th></th>\n",
       "      <th>ITEM_ID</th>\n",
       "      <th>ITEM_NAME</th>\n",
       "      <th>ITEM_TYPE</th>\n",
       "    </tr>\n",
       "  </thead>\n",
       "  <tbody>\n",
       "    <tr>\n",
       "      <th>0</th>\n",
       "      <td>I0</td>\n",
       "      <td>Charred Chicken Marketbowl</td>\n",
       "      <td>Mains</td>\n",
       "    </tr>\n",
       "    <tr>\n",
       "      <th>1</th>\n",
       "      <td>I1</td>\n",
       "      <td>Spicy Meatballs Marketbowl</td>\n",
       "      <td>Mains</td>\n",
       "    </tr>\n",
       "    <tr>\n",
       "      <th>2</th>\n",
       "      <td>I2</td>\n",
       "      <td>Grilled Organic Tofu Marketbowl</td>\n",
       "      <td>Mains</td>\n",
       "    </tr>\n",
       "    <tr>\n",
       "      <th>3</th>\n",
       "      <td>I3</td>\n",
       "      <td>Herb Roasted Chicken Marketbowl</td>\n",
       "      <td>Mains</td>\n",
       "    </tr>\n",
       "    <tr>\n",
       "      <th>4</th>\n",
       "      <td>I4</td>\n",
       "      <td>Roasted Wild Alaskan Salmon Marketbowl</td>\n",
       "      <td>Mains</td>\n",
       "    </tr>\n",
       "  </tbody>\n",
       "</table>\n",
       "</div>"
      ],
      "text/plain": [
       "  ITEM_ID                               ITEM_NAME ITEM_TYPE\n",
       "0      I0              Charred Chicken Marketbowl     Mains\n",
       "1      I1              Spicy Meatballs Marketbowl     Mains\n",
       "2      I2         Grilled Organic Tofu Marketbowl     Mains\n",
       "3      I3         Herb Roasted Chicken Marketbowl     Mains\n",
       "4      I4  Roasted Wild Alaskan Salmon Marketbowl     Mains"
      ]
     },
     "execution_count": 6,
     "metadata": {},
     "output_type": "execute_result"
    }
   ],
   "source": [
    "# Looking at the first 5 rows of the items df\n",
    "df_items.head()"
   ]
  },
  {
   "cell_type": "code",
   "execution_count": 7,
   "metadata": {},
   "outputs": [],
   "source": [
    "# Questions to answers"
   ]
  },
  {
   "cell_type": "markdown",
   "metadata": {},
   "source": [
    "# Question 1: Are Salad Eaters Healthier?\n"
   ]
  },
  {
   "cell_type": "code",
   "execution_count": 8,
   "metadata": {},
   "outputs": [
    {
     "data": {
      "text/html": [
       "<div>\n",
       "<style scoped>\n",
       "    .dataframe tbody tr th:only-of-type {\n",
       "        vertical-align: middle;\n",
       "    }\n",
       "\n",
       "    .dataframe tbody tr th {\n",
       "        vertical-align: top;\n",
       "    }\n",
       "\n",
       "    .dataframe thead th {\n",
       "        text-align: right;\n",
       "    }\n",
       "</style>\n",
       "<table border=\"1\" class=\"dataframe\">\n",
       "  <thead>\n",
       "    <tr style=\"text-align: right;\">\n",
       "      <th></th>\n",
       "      <th>ORDER_ID</th>\n",
       "      <th>DATETIME</th>\n",
       "      <th>RESTAURANT_ID</th>\n",
       "      <th>TYPE</th>\n",
       "      <th>DRINKS</th>\n",
       "      <th>COOKIES</th>\n",
       "      <th>MAIN</th>\n",
       "      <th>BASE</th>\n",
       "      <th>SIDE_1</th>\n",
       "      <th>SIDE_2</th>\n",
       "      <th>MAIN_NAME</th>\n",
       "      <th>BASE_NAME</th>\n",
       "      <th>SIDE_1_NAME</th>\n",
       "      <th>SIDE_2_NAME</th>\n",
       "    </tr>\n",
       "  </thead>\n",
       "  <tbody>\n",
       "    <tr>\n",
       "      <th>0</th>\n",
       "      <td>O2226026</td>\n",
       "      <td>2018-12-07 19:17:45</td>\n",
       "      <td>R10001</td>\n",
       "      <td>PICKUP</td>\n",
       "      <td>2.0</td>\n",
       "      <td>2.0</td>\n",
       "      <td>NaN</td>\n",
       "      <td>NaN</td>\n",
       "      <td>NaN</td>\n",
       "      <td>NaN</td>\n",
       "      <td>NaN</td>\n",
       "      <td>NaN</td>\n",
       "      <td>NaN</td>\n",
       "      <td>NaN</td>\n",
       "    </tr>\n",
       "    <tr>\n",
       "      <th>1</th>\n",
       "      <td>O1279827</td>\n",
       "      <td>2018-07-14 21:23:43</td>\n",
       "      <td>R10006</td>\n",
       "      <td>IN_STORE</td>\n",
       "      <td>0.0</td>\n",
       "      <td>0.0</td>\n",
       "      <td>NaN</td>\n",
       "      <td>NaN</td>\n",
       "      <td>NaN</td>\n",
       "      <td>NaN</td>\n",
       "      <td>NaN</td>\n",
       "      <td>NaN</td>\n",
       "      <td>NaN</td>\n",
       "      <td>NaN</td>\n",
       "    </tr>\n",
       "    <tr>\n",
       "      <th>2</th>\n",
       "      <td>O689957</td>\n",
       "      <td>2018-04-12 13:14:42</td>\n",
       "      <td>R10002</td>\n",
       "      <td>PICKUP</td>\n",
       "      <td>0.0</td>\n",
       "      <td>2.0</td>\n",
       "      <td>I1</td>\n",
       "      <td>I7</td>\n",
       "      <td>I11</td>\n",
       "      <td>I8</td>\n",
       "      <td>Spicy Meatballs Marketbowl</td>\n",
       "      <td>Farro with Summer Vegetables</td>\n",
       "      <td>Charred Broccoli with Lemon</td>\n",
       "      <td>Cauliflower with Garlic and Parmesan</td>\n",
       "    </tr>\n",
       "    <tr>\n",
       "      <th>3</th>\n",
       "      <td>O1497863</td>\n",
       "      <td>2018-08-21 18:14:23</td>\n",
       "      <td>R10007</td>\n",
       "      <td>IN_STORE</td>\n",
       "      <td>1.0</td>\n",
       "      <td>0.0</td>\n",
       "      <td>I1</td>\n",
       "      <td>I5</td>\n",
       "      <td>I10</td>\n",
       "      <td>I9</td>\n",
       "      <td>Spicy Meatballs Marketbowl</td>\n",
       "      <td>Classic Brown Rice</td>\n",
       "      <td>Roasted Sweet Potatoes</td>\n",
       "      <td>Jasper Hill Mac &amp; Cheese</td>\n",
       "    </tr>\n",
       "    <tr>\n",
       "      <th>4</th>\n",
       "      <td>O1443303</td>\n",
       "      <td>2018-08-12 18:04:44</td>\n",
       "      <td>R10006</td>\n",
       "      <td>DELIVERY</td>\n",
       "      <td>0.0</td>\n",
       "      <td>0.0</td>\n",
       "      <td>I1</td>\n",
       "      <td>I6</td>\n",
       "      <td>I10</td>\n",
       "      <td>I11</td>\n",
       "      <td>Spicy Meatballs Marketbowl</td>\n",
       "      <td>Farm Greens with Mint</td>\n",
       "      <td>Roasted Sweet Potatoes</td>\n",
       "      <td>Charred Broccoli with Lemon</td>\n",
       "    </tr>\n",
       "  </tbody>\n",
       "</table>\n",
       "</div>"
      ],
      "text/plain": [
       "   ORDER_ID            DATETIME RESTAURANT_ID      TYPE  DRINKS  COOKIES MAIN  \\\n",
       "0  O2226026 2018-12-07 19:17:45        R10001    PICKUP     2.0      2.0  NaN   \n",
       "1  O1279827 2018-07-14 21:23:43        R10006  IN_STORE     0.0      0.0  NaN   \n",
       "2   O689957 2018-04-12 13:14:42        R10002    PICKUP     0.0      2.0   I1   \n",
       "3  O1497863 2018-08-21 18:14:23        R10007  IN_STORE     1.0      0.0   I1   \n",
       "4  O1443303 2018-08-12 18:04:44        R10006  DELIVERY     0.0      0.0   I1   \n",
       "\n",
       "  BASE SIDE_1 SIDE_2                   MAIN_NAME  \\\n",
       "0  NaN    NaN    NaN                         NaN   \n",
       "1  NaN    NaN    NaN                         NaN   \n",
       "2   I7    I11     I8  Spicy Meatballs Marketbowl   \n",
       "3   I5    I10     I9  Spicy Meatballs Marketbowl   \n",
       "4   I6    I10    I11  Spicy Meatballs Marketbowl   \n",
       "\n",
       "                      BASE_NAME                  SIDE_1_NAME  \\\n",
       "0                           NaN                          NaN   \n",
       "1                           NaN                          NaN   \n",
       "2  Farro with Summer Vegetables  Charred Broccoli with Lemon   \n",
       "3            Classic Brown Rice       Roasted Sweet Potatoes   \n",
       "4         Farm Greens with Mint       Roasted Sweet Potatoes   \n",
       "\n",
       "                            SIDE_2_NAME  \n",
       "0                                   NaN  \n",
       "1                                   NaN  \n",
       "2  Cauliflower with Garlic and Parmesan  \n",
       "3              Jasper Hill Mac & Cheese  \n",
       "4           Charred Broccoli with Lemon  "
      ]
     },
     "execution_count": 8,
     "metadata": {},
     "output_type": "execute_result"
    }
   ],
   "source": [
    "df_orders.head()"
   ]
  },
  {
   "cell_type": "code",
   "execution_count": 9,
   "metadata": {},
   "outputs": [
    {
     "data": {
      "text/plain": [
       "Farm Greens with Mint           1028383\n",
       "Classic Brown Rice               790563\n",
       "Farro with Summer Vegetables     451770\n",
       "Name: BASE_NAME, dtype: int64"
      ]
     },
     "execution_count": 9,
     "metadata": {},
     "output_type": "execute_result"
    }
   ],
   "source": [
    "# There are 3 options in the many from which 2 are salads.\n",
    "df_orders['BASE_NAME'].value_counts()"
   ]
  },
  {
   "cell_type": "code",
   "execution_count": 10,
   "metadata": {},
   "outputs": [
    {
     "data": {
      "text/plain": [
       "0.6518441760220124"
      ]
     },
     "execution_count": 10,
     "metadata": {},
     "output_type": "execute_result"
    }
   ],
   "source": [
    "# 65 percent of the Base orders were salad.\n",
    "((df_orders.BASE_NAME == 'Farm Greens with Mint').sum() + (df_orders.BASE_NAME == 'Farro with Summer Vegetables').sum()) / df_orders.BASE_NAME.value_counts().sum()"
   ]
  },
  {
   "cell_type": "code",
   "execution_count": 11,
   "metadata": {},
   "outputs": [
    {
     "data": {
      "text/plain": [
       "<matplotlib.axes._subplots.AxesSubplot at 0x12fd51410>"
      ]
     },
     "execution_count": 11,
     "metadata": {},
     "output_type": "execute_result"
    },
    {
     "data": {
      "image/png": "[encoded data removed]",
      "text/plain": [
       "<Figure size 432x288 with 1 Axes>"
      ]
     },
     "metadata": {
      "needs_background": "light"
     },
     "output_type": "display_data"
    }
   ],
   "source": [
    "# After taking all sides from the people who ordered Farm Greens with Mint as their Base\n",
    "# We could see that the sides that were the most frequent were Roasted Sweet Potatoes and Cashew Kale Caesar\n",
    "\n",
    "(pd.concat([df_orders[df_orders['BASE_NAME'] == 'Farm Greens with Mint'].SIDE_1_NAME, \n",
    "           df_orders[df_orders['BASE_NAME'] == 'Farm Greens with Mint'].SIDE_2_NAME]).value_counts().sort_index().plot(kind='bar', color='red'))"
   ]
  },
  {
   "cell_type": "code",
   "execution_count": 12,
   "metadata": {},
   "outputs": [
    {
     "data": {
      "text/plain": [
       "<matplotlib.axes._subplots.AxesSubplot at 0x13144f450>"
      ]
     },
     "execution_count": 12,
     "metadata": {},
     "output_type": "execute_result"
    },
    {
     "data": {
      "image/png": "[encoded data removed]",
      "text/plain": [
       "<Figure size 432x288 with 1 Axes>"
      ]
     },
     "metadata": {
      "needs_background": "light"
     },
     "output_type": "display_data"
    }
   ],
   "source": [
    "# After taking all sides from the people who ordered Farm Greens with Mint as their Base\n",
    "# We could see that the Mac and Chesse (Not super healthy) was by far the most ordered item\n",
    "\n",
    "(pd.concat([df_orders[df_orders['BASE_NAME'] != 'Farm Greens with Mint'].SIDE_1_NAME, \n",
    "           df_orders[df_orders['BASE_NAME'] != 'Farm Greens with Mint'].SIDE_2_NAME]).value_counts().sort_index().plot(kind='bar', color='green'))"
   ]
  },
  {
   "cell_type": "code",
   "execution_count": 13,
   "metadata": {},
   "outputs": [
    {
     "data": {
      "text/html": [
       "<div>\n",
       "<style scoped>\n",
       "    .dataframe tbody tr th:only-of-type {\n",
       "        vertical-align: middle;\n",
       "    }\n",
       "\n",
       "    .dataframe tbody tr th {\n",
       "        vertical-align: top;\n",
       "    }\n",
       "\n",
       "    .dataframe thead th {\n",
       "        text-align: right;\n",
       "    }\n",
       "</style>\n",
       "<table border=\"1\" class=\"dataframe\">\n",
       "  <thead>\n",
       "    <tr style=\"text-align: right;\">\n",
       "      <th></th>\n",
       "      <th>COOKIES</th>\n",
       "    </tr>\n",
       "    <tr>\n",
       "      <th>BASE_NAME</th>\n",
       "      <th></th>\n",
       "    </tr>\n",
       "  </thead>\n",
       "  <tbody>\n",
       "    <tr>\n",
       "      <th>Classic Brown Rice</th>\n",
       "      <td>0.357342</td>\n",
       "    </tr>\n",
       "    <tr>\n",
       "      <th>Farm Greens with Mint</th>\n",
       "      <td>0.102315</td>\n",
       "    </tr>\n",
       "    <tr>\n",
       "      <th>Farro with Summer Vegetables</th>\n",
       "      <td>0.382144</td>\n",
       "    </tr>\n",
       "  </tbody>\n",
       "</table>\n",
       "</div>"
      ],
      "text/plain": [
       "                               COOKIES\n",
       "BASE_NAME                             \n",
       "Classic Brown Rice            0.357342\n",
       "Farm Greens with Mint         0.102315\n",
       "Farro with Summer Vegetables  0.382144"
      ]
     },
     "execution_count": 13,
     "metadata": {},
     "output_type": "execute_result"
    }
   ],
   "source": [
    "# People who ordered Farm Greens with Mint got less cookies than people who ordered other Base plates\n",
    "\n",
    "pd.DataFrame(df_orders.groupby(\"BASE_NAME\").COOKIES.mean())"
   ]
  },
  {
   "cell_type": "code",
   "execution_count": 14,
   "metadata": {},
   "outputs": [
    {
     "data": {
      "text/plain": [
       "Roasted Sweet Potatoes                  740827\n",
       "Charred Broccoli with Lemon             444562\n",
       "Cashew Kale Caesar                      419749\n",
       "Jasper Hill Mac & Cheese                259377\n",
       "Cauliflower with Garlic and Parmesan    130893\n",
       "Green Goddess Beans with Sesame         116432\n",
       "Snap Peas                                88890\n",
       "Blistered Shishitos                      69986\n",
       "Name: SIDE_1_NAME, dtype: int64"
      ]
     },
     "execution_count": 14,
     "metadata": {},
     "output_type": "execute_result"
    }
   ],
   "source": [
    "df_orders.SIDE_1_NAME.value_counts()"
   ]
  },
  {
   "cell_type": "code",
   "execution_count": 15,
   "metadata": {},
   "outputs": [
    {
     "data": {
      "text/plain": [
       "Roasted Sweet Potatoes                  740827\n",
       "Charred Broccoli with Lemon             444562\n",
       "Cashew Kale Caesar                      419749\n",
       "Jasper Hill Mac & Cheese                259377\n",
       "Cauliflower with Garlic and Parmesan    130893\n",
       "Green Goddess Beans with Sesame         116432\n",
       "Snap Peas                                88890\n",
       "Blistered Shishitos                      69986\n",
       "Name: SIDE_1_NAME, dtype: int64"
      ]
     },
     "execution_count": 15,
     "metadata": {},
     "output_type": "execute_result"
    }
   ],
   "source": [
    "df_orders['SIDE_1_NAME'].value_counts()"
   ]
  },
  {
   "cell_type": "code",
   "execution_count": 16,
   "metadata": {},
   "outputs": [
    {
     "name": "stdout",
     "output_type": "stream",
     "text": [
      "Roasted Sweet Potatoes\n"
     ]
    },
    {
     "data": {
      "application/javascript": [
       "\n",
       "        if (window._pyforest_update_imports_cell) { window._pyforest_update_imports_cell('import matplotlib.pyplot as plt'); }\n",
       "    "
      ],
      "text/plain": [
       "<IPython.core.display.Javascript object>"
      ]
     },
     "metadata": {},
     "output_type": "display_data"
    },
    {
     "data": {
      "image/png": "[encoded data removed]",
      "text/plain": [
       "<Figure size 432x288 with 1 Axes>"
      ]
     },
     "metadata": {
      "needs_background": "light"
     },
     "output_type": "display_data"
    },
    {
     "name": "stdout",
     "output_type": "stream",
     "text": [
      "Charred Broccoli with Lemon\n"
     ]
    },
    {
     "data": {
      "application/javascript": [
       "\n",
       "        if (window._pyforest_update_imports_cell) { window._pyforest_update_imports_cell('import matplotlib.pyplot as plt'); }\n",
       "    "
      ],
      "text/plain": [
       "<IPython.core.display.Javascript object>"
      ]
     },
     "metadata": {},
     "output_type": "display_data"
    },
    {
     "data": {
      "image/png": "[encoded data removed]",
      "text/plain": [
       "<Figure size 432x288 with 1 Axes>"
      ]
     },
     "metadata": {
      "needs_background": "light"
     },
     "output_type": "display_data"
    },
    {
     "name": "stdout",
     "output_type": "stream",
     "text": [
      "Cashew Kale Caesar\n"
     ]
    },
    {
     "data": {
      "application/javascript": [
       "\n",
       "        if (window._pyforest_update_imports_cell) { window._pyforest_update_imports_cell('import matplotlib.pyplot as plt'); }\n",
       "    "
      ],
      "text/plain": [
       "<IPython.core.display.Javascript object>"
      ]
     },
     "metadata": {},
     "output_type": "display_data"
    },
    {
     "data": {
      "image/png": "[encoded data removed]",
      "text/plain": [
       "<Figure size 432x288 with 1 Axes>"
      ]
     },
     "metadata": {
      "needs_background": "light"
     },
     "output_type": "display_data"
    },
    {
     "name": "stdout",
     "output_type": "stream",
     "text": [
      "Jasper Hill Mac & Cheese\n"
     ]
    },
    {
     "data": {
      "application/javascript": [
       "\n",
       "        if (window._pyforest_update_imports_cell) { window._pyforest_update_imports_cell('import matplotlib.pyplot as plt'); }\n",
       "    "
      ],
      "text/plain": [
       "<IPython.core.display.Javascript object>"
      ]
     },
     "metadata": {},
     "output_type": "display_data"
    },
    {
     "data": {
      "image/png": "[encoded data removed]",
      "text/plain": [
       "<Figure size 432x288 with 1 Axes>"
      ]
     },
     "metadata": {
      "needs_background": "light"
     },
     "output_type": "display_data"
    },
    {
     "name": "stdout",
     "output_type": "stream",
     "text": [
      "Cauliflower with Garlic and Parmesan\n"
     ]
    },
    {
     "data": {
      "application/javascript": [
       "\n",
       "        if (window._pyforest_update_imports_cell) { window._pyforest_update_imports_cell('import matplotlib.pyplot as plt'); }\n",
       "    "
      ],
      "text/plain": [
       "<IPython.core.display.Javascript object>"
      ]
     },
     "metadata": {},
     "output_type": "display_data"
    },
    {
     "data": {
      "image/png": "[encoded data removed]",
      "text/plain": [
       "<Figure size 432x288 with 1 Axes>"
      ]
     },
     "metadata": {
      "needs_background": "light"
     },
     "output_type": "display_data"
    },
    {
     "name": "stdout",
     "output_type": "stream",
     "text": [
      "Green Goddess Beans with Sesame\n"
     ]
    },
    {
     "data": {
      "application/javascript": [
       "\n",
       "        if (window._pyforest_update_imports_cell) { window._pyforest_update_imports_cell('import matplotlib.pyplot as plt'); }\n",
       "    "
      ],
      "text/plain": [
       "<IPython.core.display.Javascript object>"
      ]
     },
     "metadata": {},
     "output_type": "display_data"
    },
    {
     "data": {
      "image/png": "[encoded data removed]",
      "text/plain": [
       "<Figure size 432x288 with 1 Axes>"
      ]
     },
     "metadata": {
      "needs_background": "light"
     },
     "output_type": "display_data"
    },
    {
     "name": "stdout",
     "output_type": "stream",
     "text": [
      "Snap Peas\n"
     ]
    },
    {
     "data": {
      "application/javascript": [
       "\n",
       "        if (window._pyforest_update_imports_cell) { window._pyforest_update_imports_cell('import matplotlib.pyplot as plt'); }\n",
       "    "
      ],
      "text/plain": [
       "<IPython.core.display.Javascript object>"
      ]
     },
     "metadata": {},
     "output_type": "display_data"
    },
    {
     "data": {
      "image/png": "[encoded data removed]",
      "text/plain": [
       "<Figure size 432x288 with 1 Axes>"
      ]
     },
     "metadata": {
      "needs_background": "light"
     },
     "output_type": "display_data"
    },
    {
     "name": "stdout",
     "output_type": "stream",
     "text": [
      "Blistered Shishitos\n"
     ]
    },
    {
     "data": {
      "application/javascript": [
       "\n",
       "        if (window._pyforest_update_imports_cell) { window._pyforest_update_imports_cell('import matplotlib.pyplot as plt'); }\n",
       "    "
      ],
      "text/plain": [
       "<IPython.core.display.Javascript object>"
      ]
     },
     "metadata": {},
     "output_type": "display_data"
    },
    {
     "data": {
      "image/png": "[encoded data removed]",
      "text/plain": [
       "<Figure size 432x288 with 1 Axes>"
      ]
     },
     "metadata": {
      "needs_background": "light"
     },
     "output_type": "display_data"
    }
   ],
   "source": [
    "# We can look at the frequency of each Base  when ordered with the different sides 1\n",
    "\n",
    "sides = ['Roasted Sweet Potatoes', 'Charred Broccoli with Lemon', 'Cashew Kale Caesar', 'Jasper Hill Mac & Cheese',\n",
    "        'Cauliflower with Garlic and Parmesan', 'Green Goddess Beans with Sesame', 'Snap Peas', 'Blistered Shishitos']\n",
    "\n",
    "for side in sides:\n",
    "    print(side)\n",
    "    df_orders[df_orders['SIDE_1_NAME'] == side].BASE_NAME.value_counts().plot(kind='bar', grid=True)\n",
    "    plt.show()"
   ]
  },
  {
   "cell_type": "code",
   "execution_count": null,
   "metadata": {},
   "outputs": [],
   "source": []
  },
  {
   "cell_type": "code",
   "execution_count": 17,
   "metadata": {},
   "outputs": [
    {
     "name": "stdout",
     "output_type": "stream",
     "text": [
      "Roasted Sweet Potatoes\n"
     ]
    },
    {
     "data": {
      "application/javascript": [
       "\n",
       "        if (window._pyforest_update_imports_cell) { window._pyforest_update_imports_cell('import matplotlib.pyplot as plt'); }\n",
       "    "
      ],
      "text/plain": [
       "<IPython.core.display.Javascript object>"
      ]
     },
     "metadata": {},
     "output_type": "display_data"
    },
    {
     "data": {
      "image/png": "[encoded data removed]",
      "text/plain": [
       "<Figure size 432x288 with 1 Axes>"
      ]
     },
     "metadata": {
      "needs_background": "light"
     },
     "output_type": "display_data"
    },
    {
     "name": "stdout",
     "output_type": "stream",
     "text": [
      "Charred Broccoli with Lemon\n"
     ]
    },
    {
     "data": {
      "application/javascript": [
       "\n",
       "        if (window._pyforest_update_imports_cell) { window._pyforest_update_imports_cell('import matplotlib.pyplot as plt'); }\n",
       "    "
      ],
      "text/plain": [
       "<IPython.core.display.Javascript object>"
      ]
     },
     "metadata": {},
     "output_type": "display_data"
    },
    {
     "data": {
      "image/png": "[encoded data removed]",
      "text/plain": [
       "<Figure size 432x288 with 1 Axes>"
      ]
     },
     "metadata": {
      "needs_background": "light"
     },
     "output_type": "display_data"
    },
    {
     "name": "stdout",
     "output_type": "stream",
     "text": [
      "Cashew Kale Caesar\n"
     ]
    },
    {
     "data": {
      "application/javascript": [
       "\n",
       "        if (window._pyforest_update_imports_cell) { window._pyforest_update_imports_cell('import matplotlib.pyplot as plt'); }\n",
       "    "
      ],
      "text/plain": [
       "<IPython.core.display.Javascript object>"
      ]
     },
     "metadata": {},
     "output_type": "display_data"
    },
    {
     "data": {
      "image/png": "[encoded data removed]",
      "text/plain": [
       "<Figure size 432x288 with 1 Axes>"
      ]
     },
     "metadata": {
      "needs_background": "light"
     },
     "output_type": "display_data"
    },
    {
     "name": "stdout",
     "output_type": "stream",
     "text": [
      "Jasper Hill Mac & Cheese\n"
     ]
    },
    {
     "data": {
      "application/javascript": [
       "\n",
       "        if (window._pyforest_update_imports_cell) { window._pyforest_update_imports_cell('import matplotlib.pyplot as plt'); }\n",
       "    "
      ],
      "text/plain": [
       "<IPython.core.display.Javascript object>"
      ]
     },
     "metadata": {},
     "output_type": "display_data"
    },
    {
     "data": {
      "image/png": "[encoded data removed]",
      "text/plain": [
       "<Figure size 432x288 with 1 Axes>"
      ]
     },
     "metadata": {
      "needs_background": "light"
     },
     "output_type": "display_data"
    },
    {
     "name": "stdout",
     "output_type": "stream",
     "text": [
      "Cauliflower with Garlic and Parmesan\n"
     ]
    },
    {
     "data": {
      "application/javascript": [
       "\n",
       "        if (window._pyforest_update_imports_cell) { window._pyforest_update_imports_cell('import matplotlib.pyplot as plt'); }\n",
       "    "
      ],
      "text/plain": [
       "<IPython.core.display.Javascript object>"
      ]
     },
     "metadata": {},
     "output_type": "display_data"
    },
    {
     "data": {
      "image/png": "[encoded data removed]",
      "text/plain": [
       "<Figure size 432x288 with 1 Axes>"
      ]
     },
     "metadata": {
      "needs_background": "light"
     },
     "output_type": "display_data"
    },
    {
     "name": "stdout",
     "output_type": "stream",
     "text": [
      "Green Goddess Beans with Sesame\n"
     ]
    },
    {
     "data": {
      "application/javascript": [
       "\n",
       "        if (window._pyforest_update_imports_cell) { window._pyforest_update_imports_cell('import matplotlib.pyplot as plt'); }\n",
       "    "
      ],
      "text/plain": [
       "<IPython.core.display.Javascript object>"
      ]
     },
     "metadata": {},
     "output_type": "display_data"
    },
    {
     "data": {
      "image/png": "[encoded data removed]",
      "text/plain": [
       "<Figure size 432x288 with 1 Axes>"
      ]
     },
     "metadata": {
      "needs_background": "light"
     },
     "output_type": "display_data"
    },
    {
     "name": "stdout",
     "output_type": "stream",
     "text": [
      "Snap Peas\n"
     ]
    },
    {
     "data": {
      "application/javascript": [
       "\n",
       "        if (window._pyforest_update_imports_cell) { window._pyforest_update_imports_cell('import matplotlib.pyplot as plt'); }\n",
       "    "
      ],
      "text/plain": [
       "<IPython.core.display.Javascript object>"
      ]
     },
     "metadata": {},
     "output_type": "display_data"
    },
    {
     "data": {
      "image/png": "[encoded data removed]",
      "text/plain": [
       "<Figure size 432x288 with 1 Axes>"
      ]
     },
     "metadata": {
      "needs_background": "light"
     },
     "output_type": "display_data"
    },
    {
     "name": "stdout",
     "output_type": "stream",
     "text": [
      "Blistered Shishitos\n"
     ]
    },
    {
     "data": {
      "application/javascript": [
       "\n",
       "        if (window._pyforest_update_imports_cell) { window._pyforest_update_imports_cell('import matplotlib.pyplot as plt'); }\n",
       "    "
      ],
      "text/plain": [
       "<IPython.core.display.Javascript object>"
      ]
     },
     "metadata": {},
     "output_type": "display_data"
    },
    {
     "data": {
      "image/png": "[encoded data removed]",
      "text/plain": [
       "<Figure size 432x288 with 1 Axes>"
      ]
     },
     "metadata": {
      "needs_background": "light"
     },
     "output_type": "display_data"
    }
   ],
   "source": [
    "# We can look at the frequency of each Base  when ordered with the different sides 2\n",
    "\n",
    "sides = ['Roasted Sweet Potatoes', 'Charred Broccoli with Lemon', 'Cashew Kale Caesar', 'Jasper Hill Mac & Cheese',\n",
    "        'Cauliflower with Garlic and Parmesan', 'Green Goddess Beans with Sesame', 'Snap Peas', 'Blistered Shishitos']\n",
    "\n",
    "for side in sides:\n",
    "    print(side)\n",
    "    df_orders[df_orders['SIDE_2_NAME'] == side].BASE_NAME.value_counts().plot(kind='bar', grid=True, color='brown')\n",
    "    plt.show()"
   ]
  },
  {
   "cell_type": "markdown",
   "metadata": {},
   "source": [
    "\n",
    "Salad eaters are healthier.\n",
    "    "
   ]
  },
  {
   "cell_type": "code",
   "execution_count": null,
   "metadata": {},
   "outputs": [],
   "source": []
  },
  {
   "cell_type": "markdown",
   "metadata": {},
   "source": [
    "# Question 2: Where should we launch drinks?"
   ]
  },
  {
   "cell_type": "code",
   "execution_count": 19,
   "metadata": {},
   "outputs": [
    {
     "data": {
      "text/html": [
       "<div>\n",
       "<style scoped>\n",
       "    .dataframe tbody tr th:only-of-type {\n",
       "        vertical-align: middle;\n",
       "    }\n",
       "\n",
       "    .dataframe tbody tr th {\n",
       "        vertical-align: top;\n",
       "    }\n",
       "\n",
       "    .dataframe thead th {\n",
       "        text-align: right;\n",
       "    }\n",
       "</style>\n",
       "<table border=\"1\" class=\"dataframe\">\n",
       "  <thead>\n",
       "    <tr style=\"text-align: right;\">\n",
       "      <th></th>\n",
       "      <th>ORDER_ID</th>\n",
       "      <th>DATETIME</th>\n",
       "      <th>RESTAURANT_ID</th>\n",
       "      <th>TYPE</th>\n",
       "      <th>DRINKS</th>\n",
       "      <th>COOKIES</th>\n",
       "      <th>MAIN</th>\n",
       "      <th>BASE</th>\n",
       "      <th>SIDE_1</th>\n",
       "      <th>SIDE_2</th>\n",
       "      <th>MAIN_NAME</th>\n",
       "      <th>BASE_NAME</th>\n",
       "      <th>SIDE_1_NAME</th>\n",
       "      <th>SIDE_2_NAME</th>\n",
       "    </tr>\n",
       "  </thead>\n",
       "  <tbody>\n",
       "    <tr>\n",
       "      <th>0</th>\n",
       "      <td>O2226026</td>\n",
       "      <td>2018-12-07 19:17:45</td>\n",
       "      <td>R10001</td>\n",
       "      <td>PICKUP</td>\n",
       "      <td>2.0</td>\n",
       "      <td>2.0</td>\n",
       "      <td>NaN</td>\n",
       "      <td>NaN</td>\n",
       "      <td>NaN</td>\n",
       "      <td>NaN</td>\n",
       "      <td>NaN</td>\n",
       "      <td>NaN</td>\n",
       "      <td>NaN</td>\n",
       "      <td>NaN</td>\n",
       "    </tr>\n",
       "    <tr>\n",
       "      <th>1</th>\n",
       "      <td>O1279827</td>\n",
       "      <td>2018-07-14 21:23:43</td>\n",
       "      <td>R10006</td>\n",
       "      <td>IN_STORE</td>\n",
       "      <td>0.0</td>\n",
       "      <td>0.0</td>\n",
       "      <td>NaN</td>\n",
       "      <td>NaN</td>\n",
       "      <td>NaN</td>\n",
       "      <td>NaN</td>\n",
       "      <td>NaN</td>\n",
       "      <td>NaN</td>\n",
       "      <td>NaN</td>\n",
       "      <td>NaN</td>\n",
       "    </tr>\n",
       "    <tr>\n",
       "      <th>2</th>\n",
       "      <td>O689957</td>\n",
       "      <td>2018-04-12 13:14:42</td>\n",
       "      <td>R10002</td>\n",
       "      <td>PICKUP</td>\n",
       "      <td>0.0</td>\n",
       "      <td>2.0</td>\n",
       "      <td>I1</td>\n",
       "      <td>I7</td>\n",
       "      <td>I11</td>\n",
       "      <td>I8</td>\n",
       "      <td>Spicy Meatballs Marketbowl</td>\n",
       "      <td>Farro with Summer Vegetables</td>\n",
       "      <td>Charred Broccoli with Lemon</td>\n",
       "      <td>Cauliflower with Garlic and Parmesan</td>\n",
       "    </tr>\n",
       "    <tr>\n",
       "      <th>3</th>\n",
       "      <td>O1497863</td>\n",
       "      <td>2018-08-21 18:14:23</td>\n",
       "      <td>R10007</td>\n",
       "      <td>IN_STORE</td>\n",
       "      <td>1.0</td>\n",
       "      <td>0.0</td>\n",
       "      <td>I1</td>\n",
       "      <td>I5</td>\n",
       "      <td>I10</td>\n",
       "      <td>I9</td>\n",
       "      <td>Spicy Meatballs Marketbowl</td>\n",
       "      <td>Classic Brown Rice</td>\n",
       "      <td>Roasted Sweet Potatoes</td>\n",
       "      <td>Jasper Hill Mac &amp; Cheese</td>\n",
       "    </tr>\n",
       "    <tr>\n",
       "      <th>4</th>\n",
       "      <td>O1443303</td>\n",
       "      <td>2018-08-12 18:04:44</td>\n",
       "      <td>R10006</td>\n",
       "      <td>DELIVERY</td>\n",
       "      <td>0.0</td>\n",
       "      <td>0.0</td>\n",
       "      <td>I1</td>\n",
       "      <td>I6</td>\n",
       "      <td>I10</td>\n",
       "      <td>I11</td>\n",
       "      <td>Spicy Meatballs Marketbowl</td>\n",
       "      <td>Farm Greens with Mint</td>\n",
       "      <td>Roasted Sweet Potatoes</td>\n",
       "      <td>Charred Broccoli with Lemon</td>\n",
       "    </tr>\n",
       "  </tbody>\n",
       "</table>\n",
       "</div>"
      ],
      "text/plain": [
       "   ORDER_ID            DATETIME RESTAURANT_ID      TYPE  DRINKS  COOKIES MAIN  \\\n",
       "0  O2226026 2018-12-07 19:17:45        R10001    PICKUP     2.0      2.0  NaN   \n",
       "1  O1279827 2018-07-14 21:23:43        R10006  IN_STORE     0.0      0.0  NaN   \n",
       "2   O689957 2018-04-12 13:14:42        R10002    PICKUP     0.0      2.0   I1   \n",
       "3  O1497863 2018-08-21 18:14:23        R10007  IN_STORE     1.0      0.0   I1   \n",
       "4  O1443303 2018-08-12 18:04:44        R10006  DELIVERY     0.0      0.0   I1   \n",
       "\n",
       "  BASE SIDE_1 SIDE_2                   MAIN_NAME  \\\n",
       "0  NaN    NaN    NaN                         NaN   \n",
       "1  NaN    NaN    NaN                         NaN   \n",
       "2   I7    I11     I8  Spicy Meatballs Marketbowl   \n",
       "3   I5    I10     I9  Spicy Meatballs Marketbowl   \n",
       "4   I6    I10    I11  Spicy Meatballs Marketbowl   \n",
       "\n",
       "                      BASE_NAME                  SIDE_1_NAME  \\\n",
       "0                           NaN                          NaN   \n",
       "1                           NaN                          NaN   \n",
       "2  Farro with Summer Vegetables  Charred Broccoli with Lemon   \n",
       "3            Classic Brown Rice       Roasted Sweet Potatoes   \n",
       "4         Farm Greens with Mint       Roasted Sweet Potatoes   \n",
       "\n",
       "                            SIDE_2_NAME  \n",
       "0                                   NaN  \n",
       "1                                   NaN  \n",
       "2  Cauliflower with Garlic and Parmesan  \n",
       "3              Jasper Hill Mac & Cheese  \n",
       "4           Charred Broccoli with Lemon  "
      ]
     },
     "execution_count": 19,
     "metadata": {},
     "output_type": "execute_result"
    }
   ],
   "source": [
    "df_orders.head()"
   ]
  },
  {
   "cell_type": "code",
   "execution_count": 20,
   "metadata": {},
   "outputs": [
    {
     "data": {
      "text/plain": [
       "<matplotlib.axes._subplots.AxesSubplot at 0x12b8ae290>"
      ]
     },
     "execution_count": 20,
     "metadata": {},
     "output_type": "execute_result"
    },
    {
     "data": {
      "image/png": "[encoded data removed]",
      "text/plain": [
       "<Figure size 432x288 with 1 Axes>"
      ]
     },
     "metadata": {
      "needs_background": "light"
     },
     "output_type": "display_data"
    }
   ],
   "source": [
    "# grouping by each restaurant and checking the average of drinks at each location \n",
    "df_orders.groupby('RESTAURANT_ID').DRINKS.mean().plot(kind='bar')"
   ]
  },
  {
   "cell_type": "code",
   "execution_count": 21,
   "metadata": {},
   "outputs": [
    {
     "data": {
      "text/html": [
       "<div>\n",
       "<style scoped>\n",
       "    .dataframe tbody tr th:only-of-type {\n",
       "        vertical-align: middle;\n",
       "    }\n",
       "\n",
       "    .dataframe tbody tr th {\n",
       "        vertical-align: top;\n",
       "    }\n",
       "\n",
       "    .dataframe thead th {\n",
       "        text-align: right;\n",
       "    }\n",
       "</style>\n",
       "<table border=\"1\" class=\"dataframe\">\n",
       "  <thead>\n",
       "    <tr style=\"text-align: right;\">\n",
       "      <th></th>\n",
       "      <th>RESTAURANT_ID</th>\n",
       "      <th>DRINKS</th>\n",
       "    </tr>\n",
       "  </thead>\n",
       "  <tbody>\n",
       "    <tr>\n",
       "      <th>0</th>\n",
       "      <td>R10001</td>\n",
       "      <td>0.170627</td>\n",
       "    </tr>\n",
       "    <tr>\n",
       "      <th>1</th>\n",
       "      <td>R10002</td>\n",
       "      <td>0.322107</td>\n",
       "    </tr>\n",
       "    <tr>\n",
       "      <th>2</th>\n",
       "      <td>R10003</td>\n",
       "      <td>0.252605</td>\n",
       "    </tr>\n",
       "    <tr>\n",
       "      <th>3</th>\n",
       "      <td>R10004</td>\n",
       "      <td>0.195951</td>\n",
       "    </tr>\n",
       "    <tr>\n",
       "      <th>4</th>\n",
       "      <td>R10005</td>\n",
       "      <td>0.247893</td>\n",
       "    </tr>\n",
       "    <tr>\n",
       "      <th>5</th>\n",
       "      <td>R10006</td>\n",
       "      <td>0.295655</td>\n",
       "    </tr>\n",
       "    <tr>\n",
       "      <th>6</th>\n",
       "      <td>R10007</td>\n",
       "      <td>0.246052</td>\n",
       "    </tr>\n",
       "    <tr>\n",
       "      <th>7</th>\n",
       "      <td>R10008</td>\n",
       "      <td>0.244597</td>\n",
       "    </tr>\n",
       "  </tbody>\n",
       "</table>\n",
       "</div>"
      ],
      "text/plain": [
       "  RESTAURANT_ID    DRINKS\n",
       "0        R10001  0.170627\n",
       "1        R10002  0.322107\n",
       "2        R10003  0.252605\n",
       "3        R10004  0.195951\n",
       "4        R10005  0.247893\n",
       "5        R10006  0.295655\n",
       "6        R10007  0.246052\n",
       "7        R10008  0.244597"
      ]
     },
     "execution_count": 21,
     "metadata": {},
     "output_type": "execute_result"
    }
   ],
   "source": [
    "# Putting the plot from above into a dataframe\n",
    "df_orders.groupby('RESTAURANT_ID').DRINKS.mean().reset_index()"
   ]
  },
  {
   "cell_type": "code",
   "execution_count": 22,
   "metadata": {},
   "outputs": [
    {
     "data": {
      "text/plain": [
       "<matplotlib.axes._subplots.AxesSubplot at 0x12b5a1610>"
      ]
     },
     "execution_count": 22,
     "metadata": {},
     "output_type": "execute_result"
    },
    {
     "data": {
      "image/png": "[encoded data removed]",
      "text/plain": [
       "<Figure size 432x288 with 1 Axes>"
      ]
     },
     "metadata": {
      "needs_background": "light"
     },
     "output_type": "display_data"
    }
   ],
   "source": [
    "# Merging tables to make visualization more clear.\n",
    "pd.merge(df_orders.groupby('RESTAURANT_ID').DRINKS.mean().reset_index(), \n",
    "         df_restaurants[['RESTAURANT_ID', 'NAME']],\n",
    "         on='RESTAURANT_ID',\n",
    "         how='left',\n",
    "         validate='one_to_one').set_index('NAME').DRINKS.plot(kind='bar')"
   ]
  },
  {
   "cell_type": "markdown",
   "metadata": {},
   "source": [
    "Midtown and Upper East Side seem to be great places to launch drinks"
   ]
  },
  {
   "cell_type": "code",
   "execution_count": null,
   "metadata": {},
   "outputs": [],
   "source": []
  },
  {
   "cell_type": "markdown",
   "metadata": {},
   "source": [
    "# Question 3: Order Modality by store"
   ]
  },
  {
   "cell_type": "code",
   "execution_count": 24,
   "metadata": {},
   "outputs": [
    {
     "data": {
      "text/html": [
       "<div>\n",
       "<style scoped>\n",
       "    .dataframe tbody tr th:only-of-type {\n",
       "        vertical-align: middle;\n",
       "    }\n",
       "\n",
       "    .dataframe tbody tr th {\n",
       "        vertical-align: top;\n",
       "    }\n",
       "\n",
       "    .dataframe thead th {\n",
       "        text-align: right;\n",
       "    }\n",
       "</style>\n",
       "<table border=\"1\" class=\"dataframe\">\n",
       "  <thead>\n",
       "    <tr style=\"text-align: right;\">\n",
       "      <th></th>\n",
       "      <th>ORDER_ID</th>\n",
       "      <th>DATETIME</th>\n",
       "      <th>RESTAURANT_ID</th>\n",
       "      <th>TYPE</th>\n",
       "      <th>DRINKS</th>\n",
       "      <th>COOKIES</th>\n",
       "      <th>MAIN</th>\n",
       "      <th>BASE</th>\n",
       "      <th>SIDE_1</th>\n",
       "      <th>SIDE_2</th>\n",
       "      <th>MAIN_NAME</th>\n",
       "      <th>BASE_NAME</th>\n",
       "      <th>SIDE_1_NAME</th>\n",
       "      <th>SIDE_2_NAME</th>\n",
       "    </tr>\n",
       "  </thead>\n",
       "  <tbody>\n",
       "    <tr>\n",
       "      <th>0</th>\n",
       "      <td>O2226026</td>\n",
       "      <td>2018-12-07 19:17:45</td>\n",
       "      <td>R10001</td>\n",
       "      <td>PICKUP</td>\n",
       "      <td>2.0</td>\n",
       "      <td>2.0</td>\n",
       "      <td>NaN</td>\n",
       "      <td>NaN</td>\n",
       "      <td>NaN</td>\n",
       "      <td>NaN</td>\n",
       "      <td>NaN</td>\n",
       "      <td>NaN</td>\n",
       "      <td>NaN</td>\n",
       "      <td>NaN</td>\n",
       "    </tr>\n",
       "    <tr>\n",
       "      <th>1</th>\n",
       "      <td>O1279827</td>\n",
       "      <td>2018-07-14 21:23:43</td>\n",
       "      <td>R10006</td>\n",
       "      <td>IN_STORE</td>\n",
       "      <td>0.0</td>\n",
       "      <td>0.0</td>\n",
       "      <td>NaN</td>\n",
       "      <td>NaN</td>\n",
       "      <td>NaN</td>\n",
       "      <td>NaN</td>\n",
       "      <td>NaN</td>\n",
       "      <td>NaN</td>\n",
       "      <td>NaN</td>\n",
       "      <td>NaN</td>\n",
       "    </tr>\n",
       "    <tr>\n",
       "      <th>2</th>\n",
       "      <td>O689957</td>\n",
       "      <td>2018-04-12 13:14:42</td>\n",
       "      <td>R10002</td>\n",
       "      <td>PICKUP</td>\n",
       "      <td>0.0</td>\n",
       "      <td>2.0</td>\n",
       "      <td>I1</td>\n",
       "      <td>I7</td>\n",
       "      <td>I11</td>\n",
       "      <td>I8</td>\n",
       "      <td>Spicy Meatballs Marketbowl</td>\n",
       "      <td>Farro with Summer Vegetables</td>\n",
       "      <td>Charred Broccoli with Lemon</td>\n",
       "      <td>Cauliflower with Garlic and Parmesan</td>\n",
       "    </tr>\n",
       "    <tr>\n",
       "      <th>3</th>\n",
       "      <td>O1497863</td>\n",
       "      <td>2018-08-21 18:14:23</td>\n",
       "      <td>R10007</td>\n",
       "      <td>IN_STORE</td>\n",
       "      <td>1.0</td>\n",
       "      <td>0.0</td>\n",
       "      <td>I1</td>\n",
       "      <td>I5</td>\n",
       "      <td>I10</td>\n",
       "      <td>I9</td>\n",
       "      <td>Spicy Meatballs Marketbowl</td>\n",
       "      <td>Classic Brown Rice</td>\n",
       "      <td>Roasted Sweet Potatoes</td>\n",
       "      <td>Jasper Hill Mac &amp; Cheese</td>\n",
       "    </tr>\n",
       "    <tr>\n",
       "      <th>4</th>\n",
       "      <td>O1443303</td>\n",
       "      <td>2018-08-12 18:04:44</td>\n",
       "      <td>R10006</td>\n",
       "      <td>DELIVERY</td>\n",
       "      <td>0.0</td>\n",
       "      <td>0.0</td>\n",
       "      <td>I1</td>\n",
       "      <td>I6</td>\n",
       "      <td>I10</td>\n",
       "      <td>I11</td>\n",
       "      <td>Spicy Meatballs Marketbowl</td>\n",
       "      <td>Farm Greens with Mint</td>\n",
       "      <td>Roasted Sweet Potatoes</td>\n",
       "      <td>Charred Broccoli with Lemon</td>\n",
       "    </tr>\n",
       "  </tbody>\n",
       "</table>\n",
       "</div>"
      ],
      "text/plain": [
       "   ORDER_ID            DATETIME RESTAURANT_ID      TYPE  DRINKS  COOKIES MAIN  \\\n",
       "0  O2226026 2018-12-07 19:17:45        R10001    PICKUP     2.0      2.0  NaN   \n",
       "1  O1279827 2018-07-14 21:23:43        R10006  IN_STORE     0.0      0.0  NaN   \n",
       "2   O689957 2018-04-12 13:14:42        R10002    PICKUP     0.0      2.0   I1   \n",
       "3  O1497863 2018-08-21 18:14:23        R10007  IN_STORE     1.0      0.0   I1   \n",
       "4  O1443303 2018-08-12 18:04:44        R10006  DELIVERY     0.0      0.0   I1   \n",
       "\n",
       "  BASE SIDE_1 SIDE_2                   MAIN_NAME  \\\n",
       "0  NaN    NaN    NaN                         NaN   \n",
       "1  NaN    NaN    NaN                         NaN   \n",
       "2   I7    I11     I8  Spicy Meatballs Marketbowl   \n",
       "3   I5    I10     I9  Spicy Meatballs Marketbowl   \n",
       "4   I6    I10    I11  Spicy Meatballs Marketbowl   \n",
       "\n",
       "                      BASE_NAME                  SIDE_1_NAME  \\\n",
       "0                           NaN                          NaN   \n",
       "1                           NaN                          NaN   \n",
       "2  Farro with Summer Vegetables  Charred Broccoli with Lemon   \n",
       "3            Classic Brown Rice       Roasted Sweet Potatoes   \n",
       "4         Farm Greens with Mint       Roasted Sweet Potatoes   \n",
       "\n",
       "                            SIDE_2_NAME  \n",
       "0                                   NaN  \n",
       "1                                   NaN  \n",
       "2  Cauliflower with Garlic and Parmesan  \n",
       "3              Jasper Hill Mac & Cheese  \n",
       "4           Charred Broccoli with Lemon  "
      ]
     },
     "execution_count": 24,
     "metadata": {},
     "output_type": "execute_result"
    }
   ],
   "source": [
    "df_orders.head()"
   ]
  },
  {
   "cell_type": "code",
   "execution_count": null,
   "metadata": {},
   "outputs": [],
   "source": []
  },
  {
   "cell_type": "code",
   "execution_count": 25,
   "metadata": {},
   "outputs": [],
   "source": [
    "# Creating columns for each type\n",
    "types = ['PICKUP', 'IN_STORE', 'DELIVERY']\n",
    "\n",
    "for _type in types:\n",
    "    df_orders[_type] = (df_orders.TYPE == _type)"
   ]
  },
  {
   "cell_type": "code",
   "execution_count": 26,
   "metadata": {},
   "outputs": [
    {
     "data": {
      "text/html": [
       "<div>\n",
       "<style scoped>\n",
       "    .dataframe tbody tr th:only-of-type {\n",
       "        vertical-align: middle;\n",
       "    }\n",
       "\n",
       "    .dataframe tbody tr th {\n",
       "        vertical-align: top;\n",
       "    }\n",
       "\n",
       "    .dataframe thead th {\n",
       "        text-align: right;\n",
       "    }\n",
       "</style>\n",
       "<table border=\"1\" class=\"dataframe\">\n",
       "  <thead>\n",
       "    <tr style=\"text-align: right;\">\n",
       "      <th></th>\n",
       "      <th>ORDER_ID</th>\n",
       "      <th>DATETIME</th>\n",
       "      <th>RESTAURANT_ID</th>\n",
       "      <th>TYPE</th>\n",
       "      <th>DRINKS</th>\n",
       "      <th>COOKIES</th>\n",
       "      <th>MAIN</th>\n",
       "      <th>BASE</th>\n",
       "      <th>SIDE_1</th>\n",
       "      <th>SIDE_2</th>\n",
       "      <th>MAIN_NAME</th>\n",
       "      <th>BASE_NAME</th>\n",
       "      <th>SIDE_1_NAME</th>\n",
       "      <th>SIDE_2_NAME</th>\n",
       "      <th>PICKUP</th>\n",
       "      <th>IN_STORE</th>\n",
       "      <th>DELIVERY</th>\n",
       "    </tr>\n",
       "  </thead>\n",
       "  <tbody>\n",
       "    <tr>\n",
       "      <th>0</th>\n",
       "      <td>O2226026</td>\n",
       "      <td>2018-12-07 19:17:45</td>\n",
       "      <td>R10001</td>\n",
       "      <td>PICKUP</td>\n",
       "      <td>2.0</td>\n",
       "      <td>2.0</td>\n",
       "      <td>NaN</td>\n",
       "      <td>NaN</td>\n",
       "      <td>NaN</td>\n",
       "      <td>NaN</td>\n",
       "      <td>NaN</td>\n",
       "      <td>NaN</td>\n",
       "      <td>NaN</td>\n",
       "      <td>NaN</td>\n",
       "      <td>True</td>\n",
       "      <td>False</td>\n",
       "      <td>False</td>\n",
       "    </tr>\n",
       "    <tr>\n",
       "      <th>1</th>\n",
       "      <td>O1279827</td>\n",
       "      <td>2018-07-14 21:23:43</td>\n",
       "      <td>R10006</td>\n",
       "      <td>IN_STORE</td>\n",
       "      <td>0.0</td>\n",
       "      <td>0.0</td>\n",
       "      <td>NaN</td>\n",
       "      <td>NaN</td>\n",
       "      <td>NaN</td>\n",
       "      <td>NaN</td>\n",
       "      <td>NaN</td>\n",
       "      <td>NaN</td>\n",
       "      <td>NaN</td>\n",
       "      <td>NaN</td>\n",
       "      <td>False</td>\n",
       "      <td>True</td>\n",
       "      <td>False</td>\n",
       "    </tr>\n",
       "    <tr>\n",
       "      <th>2</th>\n",
       "      <td>O689957</td>\n",
       "      <td>2018-04-12 13:14:42</td>\n",
       "      <td>R10002</td>\n",
       "      <td>PICKUP</td>\n",
       "      <td>0.0</td>\n",
       "      <td>2.0</td>\n",
       "      <td>I1</td>\n",
       "      <td>I7</td>\n",
       "      <td>I11</td>\n",
       "      <td>I8</td>\n",
       "      <td>Spicy Meatballs Marketbowl</td>\n",
       "      <td>Farro with Summer Vegetables</td>\n",
       "      <td>Charred Broccoli with Lemon</td>\n",
       "      <td>Cauliflower with Garlic and Parmesan</td>\n",
       "      <td>True</td>\n",
       "      <td>False</td>\n",
       "      <td>False</td>\n",
       "    </tr>\n",
       "    <tr>\n",
       "      <th>3</th>\n",
       "      <td>O1497863</td>\n",
       "      <td>2018-08-21 18:14:23</td>\n",
       "      <td>R10007</td>\n",
       "      <td>IN_STORE</td>\n",
       "      <td>1.0</td>\n",
       "      <td>0.0</td>\n",
       "      <td>I1</td>\n",
       "      <td>I5</td>\n",
       "      <td>I10</td>\n",
       "      <td>I9</td>\n",
       "      <td>Spicy Meatballs Marketbowl</td>\n",
       "      <td>Classic Brown Rice</td>\n",
       "      <td>Roasted Sweet Potatoes</td>\n",
       "      <td>Jasper Hill Mac &amp; Cheese</td>\n",
       "      <td>False</td>\n",
       "      <td>True</td>\n",
       "      <td>False</td>\n",
       "    </tr>\n",
       "    <tr>\n",
       "      <th>4</th>\n",
       "      <td>O1443303</td>\n",
       "      <td>2018-08-12 18:04:44</td>\n",
       "      <td>R10006</td>\n",
       "      <td>DELIVERY</td>\n",
       "      <td>0.0</td>\n",
       "      <td>0.0</td>\n",
       "      <td>I1</td>\n",
       "      <td>I6</td>\n",
       "      <td>I10</td>\n",
       "      <td>I11</td>\n",
       "      <td>Spicy Meatballs Marketbowl</td>\n",
       "      <td>Farm Greens with Mint</td>\n",
       "      <td>Roasted Sweet Potatoes</td>\n",
       "      <td>Charred Broccoli with Lemon</td>\n",
       "      <td>False</td>\n",
       "      <td>False</td>\n",
       "      <td>True</td>\n",
       "    </tr>\n",
       "  </tbody>\n",
       "</table>\n",
       "</div>"
      ],
      "text/plain": [
       "   ORDER_ID            DATETIME RESTAURANT_ID      TYPE  DRINKS  COOKIES MAIN  \\\n",
       "0  O2226026 2018-12-07 19:17:45        R10001    PICKUP     2.0      2.0  NaN   \n",
       "1  O1279827 2018-07-14 21:23:43        R10006  IN_STORE     0.0      0.0  NaN   \n",
       "2   O689957 2018-04-12 13:14:42        R10002    PICKUP     0.0      2.0   I1   \n",
       "3  O1497863 2018-08-21 18:14:23        R10007  IN_STORE     1.0      0.0   I1   \n",
       "4  O1443303 2018-08-12 18:04:44        R10006  DELIVERY     0.0      0.0   I1   \n",
       "\n",
       "  BASE SIDE_1 SIDE_2                   MAIN_NAME  \\\n",
       "0  NaN    NaN    NaN                         NaN   \n",
       "1  NaN    NaN    NaN                         NaN   \n",
       "2   I7    I11     I8  Spicy Meatballs Marketbowl   \n",
       "3   I5    I10     I9  Spicy Meatballs Marketbowl   \n",
       "4   I6    I10    I11  Spicy Meatballs Marketbowl   \n",
       "\n",
       "                      BASE_NAME                  SIDE_1_NAME  \\\n",
       "0                           NaN                          NaN   \n",
       "1                           NaN                          NaN   \n",
       "2  Farro with Summer Vegetables  Charred Broccoli with Lemon   \n",
       "3            Classic Brown Rice       Roasted Sweet Potatoes   \n",
       "4         Farm Greens with Mint       Roasted Sweet Potatoes   \n",
       "\n",
       "                            SIDE_2_NAME  PICKUP  IN_STORE  DELIVERY  \n",
       "0                                   NaN    True     False     False  \n",
       "1                                   NaN   False      True     False  \n",
       "2  Cauliflower with Garlic and Parmesan    True     False     False  \n",
       "3              Jasper Hill Mac & Cheese   False      True     False  \n",
       "4           Charred Broccoli with Lemon   False     False      True  "
      ]
     },
     "execution_count": 26,
     "metadata": {},
     "output_type": "execute_result"
    }
   ],
   "source": [
    "df_orders.head()"
   ]
  },
  {
   "cell_type": "code",
   "execution_count": 27,
   "metadata": {},
   "outputs": [
    {
     "data": {
      "text/plain": [
       "<matplotlib.axes._subplots.AxesSubplot at 0x12b503b90>"
      ]
     },
     "execution_count": 27,
     "metadata": {},
     "output_type": "execute_result"
    },
    {
     "data": {
      "image/png": "[encoded data removed]",
      "text/plain": [
       "<Figure size 432x288 with 1 Axes>"
      ]
     },
     "metadata": {
      "needs_background": "light"
     },
     "output_type": "display_data"
    }
   ],
   "source": [
    "# Added the restaurant names to the df_orders dataframe\n",
    "\n",
    "if \"NAME\" not in df_orders:\n",
    "    df_orders = pd.merge(df_orders, df_restaurants[['RESTAURANT_ID', 'NAME']], \n",
    "                     on='RESTAURANT_ID', how='left', validate='many_to_one')\n",
    "\n",
    "# group by restaurant and find the mean of each type\n",
    "modalities = df_orders.groupby('NAME')[types].mean()\n",
    "modalities.plot(kind = 'bar')"
   ]
  },
  {
   "cell_type": "code",
   "execution_count": 28,
   "metadata": {},
   "outputs": [
    {
     "name": "stdout",
     "output_type": "stream",
     "text": [
      "PICKUP\n"
     ]
    },
    {
     "data": {
      "application/javascript": [
       "\n",
       "        if (window._pyforest_update_imports_cell) { window._pyforest_update_imports_cell('import matplotlib.pyplot as plt'); }\n",
       "    "
      ],
      "text/plain": [
       "<IPython.core.display.Javascript object>"
      ]
     },
     "metadata": {},
     "output_type": "display_data"
    },
    {
     "data": {
      "image/png": "[encoded data removed]",
      "text/plain": [
       "<Figure size 432x288 with 1 Axes>"
      ]
     },
     "metadata": {
      "needs_background": "light"
     },
     "output_type": "display_data"
    },
    {
     "name": "stdout",
     "output_type": "stream",
     "text": [
      "IN_STORE\n"
     ]
    },
    {
     "data": {
      "application/javascript": [
       "\n",
       "        if (window._pyforest_update_imports_cell) { window._pyforest_update_imports_cell('import matplotlib.pyplot as plt'); }\n",
       "    "
      ],
      "text/plain": [
       "<IPython.core.display.Javascript object>"
      ]
     },
     "metadata": {},
     "output_type": "display_data"
    },
    {
     "data": {
      "image/png": "[encoded data removed]",
      "text/plain": [
       "<Figure size 432x288 with 1 Axes>"
      ]
     },
     "metadata": {
      "needs_background": "light"
     },
     "output_type": "display_data"
    },
    {
     "name": "stdout",
     "output_type": "stream",
     "text": [
      "DELIVERY\n"
     ]
    },
    {
     "data": {
      "application/javascript": [
       "\n",
       "        if (window._pyforest_update_imports_cell) { window._pyforest_update_imports_cell('import matplotlib.pyplot as plt'); }\n",
       "    "
      ],
      "text/plain": [
       "<IPython.core.display.Javascript object>"
      ]
     },
     "metadata": {},
     "output_type": "display_data"
    },
    {
     "data": {
      "image/png": "[encoded data removed]",
      "text/plain": [
       "<Figure size 432x288 with 1 Axes>"
      ]
     },
     "metadata": {
      "needs_background": "light"
     },
     "output_type": "display_data"
    }
   ],
   "source": [
    "# creating a column for each type\n",
    "# it will contain the type if the order if of that type\n",
    "types = ['PICKUP', 'IN_STORE', 'DELIVERY']\n",
    "\n",
    "for i in types:\n",
    "    print(i)\n",
    "    modalities[i].plot(kind='bar')\n",
    "    plt.show()"
   ]
  },
  {
   "cell_type": "code",
   "execution_count": 29,
   "metadata": {},
   "outputs": [
    {
     "data": {
      "text/plain": [
       "<matplotlib.axes._subplots.AxesSubplot at 0x1071f91d0>"
      ]
     },
     "execution_count": 29,
     "metadata": {},
     "output_type": "execute_result"
    },
    {
     "data": {
      "image/png": "[encoded data removed]",
      "text/plain": [
       "<Figure size 432x288 with 1 Axes>"
      ]
     },
     "metadata": {
      "needs_background": "light"
     },
     "output_type": "display_data"
    }
   ],
   "source": [
    "# looking at it from a different perspective\n",
    "modalities.transpose().plot(kind='bar')"
   ]
  },
  {
   "cell_type": "markdown",
   "metadata": {},
   "source": [
    "In store modality's the most common one"
   ]
  },
  {
   "cell_type": "markdown",
   "metadata": {},
   "source": [
    "# Question 4: Daily patterns by restaurant"
   ]
  },
  {
   "cell_type": "code",
   "execution_count": 30,
   "metadata": {},
   "outputs": [
    {
     "data": {
      "text/html": [
       "<div>\n",
       "<style scoped>\n",
       "    .dataframe tbody tr th:only-of-type {\n",
       "        vertical-align: middle;\n",
       "    }\n",
       "\n",
       "    .dataframe tbody tr th {\n",
       "        vertical-align: top;\n",
       "    }\n",
       "\n",
       "    .dataframe thead th {\n",
       "        text-align: right;\n",
       "    }\n",
       "</style>\n",
       "<table border=\"1\" class=\"dataframe\">\n",
       "  <thead>\n",
       "    <tr style=\"text-align: right;\">\n",
       "      <th></th>\n",
       "      <th>ORDER_ID</th>\n",
       "      <th>DATETIME</th>\n",
       "      <th>RESTAURANT_ID</th>\n",
       "      <th>TYPE</th>\n",
       "      <th>DRINKS</th>\n",
       "      <th>COOKIES</th>\n",
       "      <th>MAIN</th>\n",
       "      <th>BASE</th>\n",
       "      <th>SIDE_1</th>\n",
       "      <th>SIDE_2</th>\n",
       "      <th>MAIN_NAME</th>\n",
       "      <th>BASE_NAME</th>\n",
       "      <th>SIDE_1_NAME</th>\n",
       "      <th>SIDE_2_NAME</th>\n",
       "      <th>PICKUP</th>\n",
       "      <th>IN_STORE</th>\n",
       "      <th>DELIVERY</th>\n",
       "      <th>NAME</th>\n",
       "    </tr>\n",
       "  </thead>\n",
       "  <tbody>\n",
       "    <tr>\n",
       "      <th>0</th>\n",
       "      <td>O2226026</td>\n",
       "      <td>2018-12-07 19:17:45</td>\n",
       "      <td>R10001</td>\n",
       "      <td>PICKUP</td>\n",
       "      <td>2.0</td>\n",
       "      <td>2.0</td>\n",
       "      <td>NaN</td>\n",
       "      <td>NaN</td>\n",
       "      <td>NaN</td>\n",
       "      <td>NaN</td>\n",
       "      <td>NaN</td>\n",
       "      <td>NaN</td>\n",
       "      <td>NaN</td>\n",
       "      <td>NaN</td>\n",
       "      <td>True</td>\n",
       "      <td>False</td>\n",
       "      <td>False</td>\n",
       "      <td>Columbia</td>\n",
       "    </tr>\n",
       "    <tr>\n",
       "      <th>1</th>\n",
       "      <td>O1279827</td>\n",
       "      <td>2018-07-14 21:23:43</td>\n",
       "      <td>R10006</td>\n",
       "      <td>IN_STORE</td>\n",
       "      <td>0.0</td>\n",
       "      <td>0.0</td>\n",
       "      <td>NaN</td>\n",
       "      <td>NaN</td>\n",
       "      <td>NaN</td>\n",
       "      <td>NaN</td>\n",
       "      <td>NaN</td>\n",
       "      <td>NaN</td>\n",
       "      <td>NaN</td>\n",
       "      <td>NaN</td>\n",
       "      <td>False</td>\n",
       "      <td>True</td>\n",
       "      <td>False</td>\n",
       "      <td>Upper East Side</td>\n",
       "    </tr>\n",
       "    <tr>\n",
       "      <th>2</th>\n",
       "      <td>O689957</td>\n",
       "      <td>2018-04-12 13:14:42</td>\n",
       "      <td>R10002</td>\n",
       "      <td>PICKUP</td>\n",
       "      <td>0.0</td>\n",
       "      <td>2.0</td>\n",
       "      <td>I1</td>\n",
       "      <td>I7</td>\n",
       "      <td>I11</td>\n",
       "      <td>I8</td>\n",
       "      <td>Spicy Meatballs Marketbowl</td>\n",
       "      <td>Farro with Summer Vegetables</td>\n",
       "      <td>Charred Broccoli with Lemon</td>\n",
       "      <td>Cauliflower with Garlic and Parmesan</td>\n",
       "      <td>True</td>\n",
       "      <td>False</td>\n",
       "      <td>False</td>\n",
       "      <td>Midtown</td>\n",
       "    </tr>\n",
       "    <tr>\n",
       "      <th>3</th>\n",
       "      <td>O1497863</td>\n",
       "      <td>2018-08-21 18:14:23</td>\n",
       "      <td>R10007</td>\n",
       "      <td>IN_STORE</td>\n",
       "      <td>1.0</td>\n",
       "      <td>0.0</td>\n",
       "      <td>I1</td>\n",
       "      <td>I5</td>\n",
       "      <td>I10</td>\n",
       "      <td>I9</td>\n",
       "      <td>Spicy Meatballs Marketbowl</td>\n",
       "      <td>Classic Brown Rice</td>\n",
       "      <td>Roasted Sweet Potatoes</td>\n",
       "      <td>Jasper Hill Mac &amp; Cheese</td>\n",
       "      <td>False</td>\n",
       "      <td>True</td>\n",
       "      <td>False</td>\n",
       "      <td>Upper West Side</td>\n",
       "    </tr>\n",
       "    <tr>\n",
       "      <th>4</th>\n",
       "      <td>O1443303</td>\n",
       "      <td>2018-08-12 18:04:44</td>\n",
       "      <td>R10006</td>\n",
       "      <td>DELIVERY</td>\n",
       "      <td>0.0</td>\n",
       "      <td>0.0</td>\n",
       "      <td>I1</td>\n",
       "      <td>I6</td>\n",
       "      <td>I10</td>\n",
       "      <td>I11</td>\n",
       "      <td>Spicy Meatballs Marketbowl</td>\n",
       "      <td>Farm Greens with Mint</td>\n",
       "      <td>Roasted Sweet Potatoes</td>\n",
       "      <td>Charred Broccoli with Lemon</td>\n",
       "      <td>False</td>\n",
       "      <td>False</td>\n",
       "      <td>True</td>\n",
       "      <td>Upper East Side</td>\n",
       "    </tr>\n",
       "  </tbody>\n",
       "</table>\n",
       "</div>"
      ],
      "text/plain": [
       "   ORDER_ID            DATETIME RESTAURANT_ID      TYPE  DRINKS  COOKIES MAIN  \\\n",
       "0  O2226026 2018-12-07 19:17:45        R10001    PICKUP     2.0      2.0  NaN   \n",
       "1  O1279827 2018-07-14 21:23:43        R10006  IN_STORE     0.0      0.0  NaN   \n",
       "2   O689957 2018-04-12 13:14:42        R10002    PICKUP     0.0      2.0   I1   \n",
       "3  O1497863 2018-08-21 18:14:23        R10007  IN_STORE     1.0      0.0   I1   \n",
       "4  O1443303 2018-08-12 18:04:44        R10006  DELIVERY     0.0      0.0   I1   \n",
       "\n",
       "  BASE SIDE_1 SIDE_2                   MAIN_NAME  \\\n",
       "0  NaN    NaN    NaN                         NaN   \n",
       "1  NaN    NaN    NaN                         NaN   \n",
       "2   I7    I11     I8  Spicy Meatballs Marketbowl   \n",
       "3   I5    I10     I9  Spicy Meatballs Marketbowl   \n",
       "4   I6    I10    I11  Spicy Meatballs Marketbowl   \n",
       "\n",
       "                      BASE_NAME                  SIDE_1_NAME  \\\n",
       "0                           NaN                          NaN   \n",
       "1                           NaN                          NaN   \n",
       "2  Farro with Summer Vegetables  Charred Broccoli with Lemon   \n",
       "3            Classic Brown Rice       Roasted Sweet Potatoes   \n",
       "4         Farm Greens with Mint       Roasted Sweet Potatoes   \n",
       "\n",
       "                            SIDE_2_NAME  PICKUP  IN_STORE  DELIVERY  \\\n",
       "0                                   NaN    True     False     False   \n",
       "1                                   NaN   False      True     False   \n",
       "2  Cauliflower with Garlic and Parmesan    True     False     False   \n",
       "3              Jasper Hill Mac & Cheese   False      True     False   \n",
       "4           Charred Broccoli with Lemon   False     False      True   \n",
       "\n",
       "              NAME  \n",
       "0         Columbia  \n",
       "1  Upper East Side  \n",
       "2          Midtown  \n",
       "3  Upper West Side  \n",
       "4  Upper East Side  "
      ]
     },
     "execution_count": 30,
     "metadata": {},
     "output_type": "execute_result"
    }
   ],
   "source": [
    "df_orders.head()"
   ]
  },
  {
   "cell_type": "code",
   "execution_count": 31,
   "metadata": {},
   "outputs": [
    {
     "name": "stdout",
     "output_type": "stream",
     "text": [
      "<class 'pandas.core.frame.DataFrame'>\n",
      "Int64Index: 2392366 entries, 0 to 2392365\n",
      "Data columns (total 18 columns):\n",
      " #   Column         Dtype         \n",
      "---  ------         -----         \n",
      " 0   ORDER_ID       object        \n",
      " 1   DATETIME       datetime64[ns]\n",
      " 2   RESTAURANT_ID  object        \n",
      " 3   TYPE           object        \n",
      " 4   DRINKS         float64       \n",
      " 5   COOKIES        float64       \n",
      " 6   MAIN           object        \n",
      " 7   BASE           object        \n",
      " 8   SIDE_1         object        \n",
      " 9   SIDE_2         object        \n",
      " 10  MAIN_NAME      object        \n",
      " 11  BASE_NAME      object        \n",
      " 12  SIDE_1_NAME    object        \n",
      " 13  SIDE_2_NAME    object        \n",
      " 14  PICKUP         bool          \n",
      " 15  IN_STORE       bool          \n",
      " 16  DELIVERY       bool          \n",
      " 17  NAME           object        \n",
      "dtypes: bool(3), datetime64[ns](1), float64(2), object(12)\n",
      "memory usage: 298.9+ MB\n"
     ]
    }
   ],
   "source": [
    "# checking each column's data type\n",
    "df_orders.info()"
   ]
  },
  {
   "cell_type": "code",
   "execution_count": 32,
   "metadata": {},
   "outputs": [
    {
     "data": {
      "text/plain": [
       "datetime.date(2018, 1, 1)"
      ]
     },
     "execution_count": 32,
     "metadata": {},
     "output_type": "execute_result"
    }
   ],
   "source": [
    "# We have records from January, 1st until December, 31st.\n",
    "\n",
    "df_orders.DATETIME.dt.date.min()"
   ]
  },
  {
   "cell_type": "code",
   "execution_count": 33,
   "metadata": {},
   "outputs": [
    {
     "data": {
      "text/plain": [
       "datetime.date(2018, 12, 31)"
      ]
     },
     "execution_count": 33,
     "metadata": {},
     "output_type": "execute_result"
    }
   ],
   "source": [
    "df_orders.DATETIME.dt.date.max()"
   ]
  },
  {
   "cell_type": "code",
   "execution_count": 34,
   "metadata": {},
   "outputs": [
    {
     "data": {
      "text/plain": [
       "<matplotlib.axes._subplots.AxesSubplot at 0x12ac86a90>"
      ]
     },
     "execution_count": 34,
     "metadata": {},
     "output_type": "execute_result"
    },
    {
     "data": {
      "image/png": "[encoded data removed]",
      "text/plain": [
       "<Figure size 432x288 with 1 Axes>"
      ]
     },
     "metadata": {
      "needs_background": "light"
     },
     "output_type": "display_data"
    }
   ],
   "source": [
    "# how well each restaurant did over the summer: May, June, July, August.\n",
    "\n",
    "# merging the restaurant names to the df_orders dataframe\n",
    "if \"NAME\" not in df_orders:\n",
    "    pd.merge(df_orders, df_restaurants[['RESTAURANT_ID', 'NAME']],\n",
    "             on='RESTAURANT_ID', how='left', validate='many_to_one')\n",
    "\n",
    "\n",
    "# creating columns for each month of the summer\n",
    "summer = [5, 6, 7, 8]\n",
    "for i in summer:\n",
    "    df_orders[i] = (df_orders.DATETIME.dt.month == i)\n",
    "    \n",
    "# grouping by each restaurant and displaying the total sum of sales in each month\n",
    "df_orders.groupby('NAME')[summer].sum().plot(kind='bar')\n",
    "\n",
    "\n"
   ]
  },
  {
   "cell_type": "code",
   "execution_count": 35,
   "metadata": {},
   "outputs": [],
   "source": [
    "# creating a list with the restaurant's names\n",
    "all_ids = df_orders.NAME.unique().tolist()"
   ]
  },
  {
   "cell_type": "code",
   "execution_count": 36,
   "metadata": {},
   "outputs": [
    {
     "data": {
      "application/javascript": [
       "\n",
       "        if (window._pyforest_update_imports_cell) { window._pyforest_update_imports_cell('import matplotlib.pyplot as plt'); }\n",
       "    "
      ],
      "text/plain": [
       "<IPython.core.display.Javascript object>"
      ]
     },
     "metadata": {},
     "output_type": "display_data"
    },
    {
     "data": {
      "image/png": "[encoded data removed]",
      "text/plain": [
       "<Figure size 432x288 with 1 Axes>"
      ]
     },
     "metadata": {
      "needs_background": "light"
     },
     "output_type": "display_data"
    },
    {
     "data": {
      "application/javascript": [
       "\n",
       "        if (window._pyforest_update_imports_cell) { window._pyforest_update_imports_cell('import matplotlib.pyplot as plt'); }\n",
       "    "
      ],
      "text/plain": [
       "<IPython.core.display.Javascript object>"
      ]
     },
     "metadata": {},
     "output_type": "display_data"
    },
    {
     "data": {
      "image/png": "[encoded data removed]",
      "text/plain": [
       "<Figure size 432x288 with 1 Axes>"
      ]
     },
     "metadata": {
      "needs_background": "light"
     },
     "output_type": "display_data"
    },
    {
     "data": {
      "application/javascript": [
       "\n",
       "        if (window._pyforest_update_imports_cell) { window._pyforest_update_imports_cell('import matplotlib.pyplot as plt'); }\n",
       "    "
      ],
      "text/plain": [
       "<IPython.core.display.Javascript object>"
      ]
     },
     "metadata": {},
     "output_type": "display_data"
    },
    {
     "data": {
      "image/png": "[encoded data removed]",
      "text/plain": [
       "<Figure size 432x288 with 1 Axes>"
      ]
     },
     "metadata": {
      "needs_background": "light"
     },
     "output_type": "display_data"
    },
    {
     "data": {
      "application/javascript": [
       "\n",
       "        if (window._pyforest_update_imports_cell) { window._pyforest_update_imports_cell('import matplotlib.pyplot as plt'); }\n",
       "    "
      ],
      "text/plain": [
       "<IPython.core.display.Javascript object>"
      ]
     },
     "metadata": {},
     "output_type": "display_data"
    },
    {
     "data": {
      "image/png": "[encoded data removed]",
      "text/plain": [
       "<Figure size 432x288 with 1 Axes>"
      ]
     },
     "metadata": {
      "needs_background": "light"
     },
     "output_type": "display_data"
    },
    {
     "data": {
      "application/javascript": [
       "\n",
       "        if (window._pyforest_update_imports_cell) { window._pyforest_update_imports_cell('import matplotlib.pyplot as plt'); }\n",
       "    "
      ],
      "text/plain": [
       "<IPython.core.display.Javascript object>"
      ]
     },
     "metadata": {},
     "output_type": "display_data"
    },
    {
     "data": {
      "image/png": "[encoded data removed]",
      "text/plain": [
       "<Figure size 432x288 with 1 Axes>"
      ]
     },
     "metadata": {
      "needs_background": "light"
     },
     "output_type": "display_data"
    },
    {
     "data": {
      "application/javascript": [
       "\n",
       "        if (window._pyforest_update_imports_cell) { window._pyforest_update_imports_cell('import matplotlib.pyplot as plt'); }\n",
       "    "
      ],
      "text/plain": [
       "<IPython.core.display.Javascript object>"
      ]
     },
     "metadata": {},
     "output_type": "display_data"
    },
    {
     "data": {
      "image/png": "[encoded data removed]",
      "text/plain": [
       "<Figure size 432x288 with 1 Axes>"
      ]
     },
     "metadata": {
      "needs_background": "light"
     },
     "output_type": "display_data"
    },
    {
     "data": {
      "application/javascript": [
       "\n",
       "        if (window._pyforest_update_imports_cell) { window._pyforest_update_imports_cell('import matplotlib.pyplot as plt'); }\n",
       "    "
      ],
      "text/plain": [
       "<IPython.core.display.Javascript object>"
      ]
     },
     "metadata": {},
     "output_type": "display_data"
    },
    {
     "data": {
      "image/png": "[encoded data removed]",
      "text/plain": [
       "<Figure size 432x288 with 1 Axes>"
      ]
     },
     "metadata": {
      "needs_background": "light"
     },
     "output_type": "display_data"
    },
    {
     "data": {
      "application/javascript": [
       "\n",
       "        if (window._pyforest_update_imports_cell) { window._pyforest_update_imports_cell('import matplotlib.pyplot as plt'); }\n",
       "    "
      ],
      "text/plain": [
       "<IPython.core.display.Javascript object>"
      ]
     },
     "metadata": {},
     "output_type": "display_data"
    },
    {
     "data": {
      "image/png": "[encoded data removed]",
      "text/plain": [
       "<Figure size 432x288 with 1 Axes>"
      ]
     },
     "metadata": {
      "needs_background": "light"
     },
     "output_type": "display_data"
    }
   ],
   "source": [
    "for i in all_ids:\n",
    "    df_orders[df_orders.NAME == i].DATETIME.dt.hour.value_counts().sort_index().plot(title=i)\n",
    "    plt.show()"
   ]
  },
  {
   "cell_type": "code",
   "execution_count": null,
   "metadata": {},
   "outputs": [],
   "source": []
  },
  {
   "cell_type": "markdown",
   "metadata": {},
   "source": [
    "# Question 5: Weather Patterns\n"
   ]
  },
  {
   "cell_type": "code",
   "execution_count": null,
   "metadata": {},
   "outputs": [],
   "source": []
  },
  {
   "cell_type": "code",
   "execution_count": 38,
   "metadata": {},
   "outputs": [
    {
     "data": {
      "text/html": [
       "<div>\n",
       "<style scoped>\n",
       "    .dataframe tbody tr th:only-of-type {\n",
       "        vertical-align: middle;\n",
       "    }\n",
       "\n",
       "    .dataframe tbody tr th {\n",
       "        vertical-align: top;\n",
       "    }\n",
       "\n",
       "    .dataframe thead th {\n",
       "        text-align: right;\n",
       "    }\n",
       "</style>\n",
       "<table border=\"1\" class=\"dataframe\">\n",
       "  <thead>\n",
       "    <tr style=\"text-align: right;\">\n",
       "      <th></th>\n",
       "      <th>DATETIME</th>\n",
       "      <th>TEMPERATURE</th>\n",
       "      <th>PRECIP</th>\n",
       "    </tr>\n",
       "  </thead>\n",
       "  <tbody>\n",
       "    <tr>\n",
       "      <th>0</th>\n",
       "      <td>2018-01-01 00:00:00</td>\n",
       "      <td>9.17</td>\n",
       "      <td>0.0</td>\n",
       "    </tr>\n",
       "    <tr>\n",
       "      <th>1</th>\n",
       "      <td>2018-01-01 01:00:00</td>\n",
       "      <td>9.17</td>\n",
       "      <td>0.0</td>\n",
       "    </tr>\n",
       "    <tr>\n",
       "      <th>2</th>\n",
       "      <td>2018-01-01 02:00:00</td>\n",
       "      <td>9.17</td>\n",
       "      <td>0.0</td>\n",
       "    </tr>\n",
       "    <tr>\n",
       "      <th>3</th>\n",
       "      <td>2018-01-01 03:00:00</td>\n",
       "      <td>8.24</td>\n",
       "      <td>0.0</td>\n",
       "    </tr>\n",
       "    <tr>\n",
       "      <th>4</th>\n",
       "      <td>2018-01-01 04:00:00</td>\n",
       "      <td>8.24</td>\n",
       "      <td>0.0</td>\n",
       "    </tr>\n",
       "  </tbody>\n",
       "</table>\n",
       "</div>"
      ],
      "text/plain": [
       "             DATETIME  TEMPERATURE  PRECIP\n",
       "0 2018-01-01 00:00:00         9.17     0.0\n",
       "1 2018-01-01 01:00:00         9.17     0.0\n",
       "2 2018-01-01 02:00:00         9.17     0.0\n",
       "3 2018-01-01 03:00:00         8.24     0.0\n",
       "4 2018-01-01 04:00:00         8.24     0.0"
      ]
     },
     "execution_count": 38,
     "metadata": {},
     "output_type": "execute_result"
    }
   ],
   "source": [
    "df_weather.head()"
   ]
  },
  {
   "cell_type": "code",
   "execution_count": 39,
   "metadata": {},
   "outputs": [],
   "source": [
    "# Creating two new columns (Hour and Date) for the orders dataframe\n",
    "df_orders['HOUR'] = df_orders.DATETIME.dt.hour\n",
    "df_orders['DATE'] = df_orders.DATETIME.dt.date"
   ]
  },
  {
   "cell_type": "code",
   "execution_count": 40,
   "metadata": {},
   "outputs": [],
   "source": [
    "# Creating two new columns (Hour and Date) for the weather dataframe\n",
    "df_weather['HOUR'] = df_weather.DATETIME.dt.hour\n",
    "df_weather['DATE'] = df_weather.DATETIME.dt.date"
   ]
  },
  {
   "cell_type": "code",
   "execution_count": 41,
   "metadata": {},
   "outputs": [],
   "source": [
    "# dropping the DATETIME colunm in place\n",
    "df_weather.drop('DATETIME', axis=1, inplace=True)"
   ]
  },
  {
   "cell_type": "code",
   "execution_count": 51,
   "metadata": {},
   "outputs": [
    {
     "data": {
      "text/html": [
       "<div>\n",
       "<style scoped>\n",
       "    .dataframe tbody tr th:only-of-type {\n",
       "        vertical-align: middle;\n",
       "    }\n",
       "\n",
       "    .dataframe tbody tr th {\n",
       "        vertical-align: top;\n",
       "    }\n",
       "\n",
       "    .dataframe thead th {\n",
       "        text-align: right;\n",
       "    }\n",
       "</style>\n",
       "<table border=\"1\" class=\"dataframe\">\n",
       "  <thead>\n",
       "    <tr style=\"text-align: right;\">\n",
       "      <th></th>\n",
       "      <th>ORDER_ID</th>\n",
       "      <th>DATETIME</th>\n",
       "      <th>RESTAURANT_ID</th>\n",
       "      <th>TYPE</th>\n",
       "      <th>DRINKS</th>\n",
       "      <th>COOKIES</th>\n",
       "      <th>MAIN</th>\n",
       "      <th>BASE</th>\n",
       "      <th>SIDE_1</th>\n",
       "      <th>SIDE_2</th>\n",
       "      <th>...</th>\n",
       "      <th>PICKUP</th>\n",
       "      <th>IN_STORE</th>\n",
       "      <th>DELIVERY</th>\n",
       "      <th>NAME</th>\n",
       "      <th>5</th>\n",
       "      <th>6</th>\n",
       "      <th>7</th>\n",
       "      <th>8</th>\n",
       "      <th>HOUR</th>\n",
       "      <th>DATE</th>\n",
       "    </tr>\n",
       "  </thead>\n",
       "  <tbody>\n",
       "    <tr>\n",
       "      <th>0</th>\n",
       "      <td>O2226026</td>\n",
       "      <td>2018-12-07 19:17:45</td>\n",
       "      <td>R10001</td>\n",
       "      <td>PICKUP</td>\n",
       "      <td>2.0</td>\n",
       "      <td>2.0</td>\n",
       "      <td>NaN</td>\n",
       "      <td>NaN</td>\n",
       "      <td>NaN</td>\n",
       "      <td>NaN</td>\n",
       "      <td>...</td>\n",
       "      <td>True</td>\n",
       "      <td>False</td>\n",
       "      <td>False</td>\n",
       "      <td>Columbia</td>\n",
       "      <td>False</td>\n",
       "      <td>False</td>\n",
       "      <td>False</td>\n",
       "      <td>False</td>\n",
       "      <td>19</td>\n",
       "      <td>2018-12-07</td>\n",
       "    </tr>\n",
       "    <tr>\n",
       "      <th>1</th>\n",
       "      <td>O1279827</td>\n",
       "      <td>2018-07-14 21:23:43</td>\n",
       "      <td>R10006</td>\n",
       "      <td>IN_STORE</td>\n",
       "      <td>0.0</td>\n",
       "      <td>0.0</td>\n",
       "      <td>NaN</td>\n",
       "      <td>NaN</td>\n",
       "      <td>NaN</td>\n",
       "      <td>NaN</td>\n",
       "      <td>...</td>\n",
       "      <td>False</td>\n",
       "      <td>True</td>\n",
       "      <td>False</td>\n",
       "      <td>Upper East Side</td>\n",
       "      <td>False</td>\n",
       "      <td>False</td>\n",
       "      <td>True</td>\n",
       "      <td>False</td>\n",
       "      <td>21</td>\n",
       "      <td>2018-07-14</td>\n",
       "    </tr>\n",
       "    <tr>\n",
       "      <th>2</th>\n",
       "      <td>O689957</td>\n",
       "      <td>2018-04-12 13:14:42</td>\n",
       "      <td>R10002</td>\n",
       "      <td>PICKUP</td>\n",
       "      <td>0.0</td>\n",
       "      <td>2.0</td>\n",
       "      <td>I1</td>\n",
       "      <td>I7</td>\n",
       "      <td>I11</td>\n",
       "      <td>I8</td>\n",
       "      <td>...</td>\n",
       "      <td>True</td>\n",
       "      <td>False</td>\n",
       "      <td>False</td>\n",
       "      <td>Midtown</td>\n",
       "      <td>False</td>\n",
       "      <td>False</td>\n",
       "      <td>False</td>\n",
       "      <td>False</td>\n",
       "      <td>13</td>\n",
       "      <td>2018-04-12</td>\n",
       "    </tr>\n",
       "    <tr>\n",
       "      <th>3</th>\n",
       "      <td>O1497863</td>\n",
       "      <td>2018-08-21 18:14:23</td>\n",
       "      <td>R10007</td>\n",
       "      <td>IN_STORE</td>\n",
       "      <td>1.0</td>\n",
       "      <td>0.0</td>\n",
       "      <td>I1</td>\n",
       "      <td>I5</td>\n",
       "      <td>I10</td>\n",
       "      <td>I9</td>\n",
       "      <td>...</td>\n",
       "      <td>False</td>\n",
       "      <td>True</td>\n",
       "      <td>False</td>\n",
       "      <td>Upper West Side</td>\n",
       "      <td>False</td>\n",
       "      <td>False</td>\n",
       "      <td>False</td>\n",
       "      <td>True</td>\n",
       "      <td>18</td>\n",
       "      <td>2018-08-21</td>\n",
       "    </tr>\n",
       "    <tr>\n",
       "      <th>4</th>\n",
       "      <td>O1443303</td>\n",
       "      <td>2018-08-12 18:04:44</td>\n",
       "      <td>R10006</td>\n",
       "      <td>DELIVERY</td>\n",
       "      <td>0.0</td>\n",
       "      <td>0.0</td>\n",
       "      <td>I1</td>\n",
       "      <td>I6</td>\n",
       "      <td>I10</td>\n",
       "      <td>I11</td>\n",
       "      <td>...</td>\n",
       "      <td>False</td>\n",
       "      <td>False</td>\n",
       "      <td>True</td>\n",
       "      <td>Upper East Side</td>\n",
       "      <td>False</td>\n",
       "      <td>False</td>\n",
       "      <td>False</td>\n",
       "      <td>True</td>\n",
       "      <td>18</td>\n",
       "      <td>2018-08-12</td>\n",
       "    </tr>\n",
       "  </tbody>\n",
       "</table>\n",
       "<p>5 rows × 24 columns</p>\n",
       "</div>"
      ],
      "text/plain": [
       "   ORDER_ID            DATETIME RESTAURANT_ID      TYPE  DRINKS  COOKIES MAIN  \\\n",
       "0  O2226026 2018-12-07 19:17:45        R10001    PICKUP     2.0      2.0  NaN   \n",
       "1  O1279827 2018-07-14 21:23:43        R10006  IN_STORE     0.0      0.0  NaN   \n",
       "2   O689957 2018-04-12 13:14:42        R10002    PICKUP     0.0      2.0   I1   \n",
       "3  O1497863 2018-08-21 18:14:23        R10007  IN_STORE     1.0      0.0   I1   \n",
       "4  O1443303 2018-08-12 18:04:44        R10006  DELIVERY     0.0      0.0   I1   \n",
       "\n",
       "  BASE SIDE_1 SIDE_2  ... PICKUP IN_STORE DELIVERY             NAME      5  \\\n",
       "0  NaN    NaN    NaN  ...   True    False    False         Columbia  False   \n",
       "1  NaN    NaN    NaN  ...  False     True    False  Upper East Side  False   \n",
       "2   I7    I11     I8  ...   True    False    False          Midtown  False   \n",
       "3   I5    I10     I9  ...  False     True    False  Upper West Side  False   \n",
       "4   I6    I10    I11  ...  False    False     True  Upper East Side  False   \n",
       "\n",
       "       6      7      8  HOUR        DATE  \n",
       "0  False  False  False    19  2018-12-07  \n",
       "1  False   True  False    21  2018-07-14  \n",
       "2  False  False  False    13  2018-04-12  \n",
       "3  False  False   True    18  2018-08-21  \n",
       "4  False  False   True    18  2018-08-12  \n",
       "\n",
       "[5 rows x 24 columns]"
      ]
     },
     "execution_count": 51,
     "metadata": {},
     "output_type": "execute_result"
    }
   ],
   "source": [
    "df_orders.head()"
   ]
  },
  {
   "cell_type": "code",
   "execution_count": 58,
   "metadata": {},
   "outputs": [],
   "source": [
    "# grouping by HOUR and DATE and checking the different modalities (In store, pick up, delivery) and drink's mean\n",
    "# and putting it into a dataframe\n",
    "df_orders_hours = df_orders.groupby(['HOUR', 'DATE'])[types + ['DRINKS']].mean().reset_index()"
   ]
  },
  {
   "cell_type": "code",
   "execution_count": 63,
   "metadata": {},
   "outputs": [],
   "source": [
    "# Joining the new dataframe that we created in the previous cell and merging it with the weather dataframe\n",
    "orders_weather = pd.merge(df_orders_hours, df_weather, on=['HOUR', 'DATE'], how='left', validate='one_to_one')"
   ]
  },
  {
   "cell_type": "code",
   "execution_count": 70,
   "metadata": {},
   "outputs": [
    {
     "data": {
      "text/html": [
       "<div>\n",
       "<style scoped>\n",
       "    .dataframe tbody tr th:only-of-type {\n",
       "        vertical-align: middle;\n",
       "    }\n",
       "\n",
       "    .dataframe tbody tr th {\n",
       "        vertical-align: top;\n",
       "    }\n",
       "\n",
       "    .dataframe thead th {\n",
       "        text-align: right;\n",
       "    }\n",
       "</style>\n",
       "<table border=\"1\" class=\"dataframe\">\n",
       "  <thead>\n",
       "    <tr style=\"text-align: right;\">\n",
       "      <th></th>\n",
       "      <th>HOUR</th>\n",
       "      <th>PICKUP</th>\n",
       "      <th>IN_STORE</th>\n",
       "      <th>DELIVERY</th>\n",
       "      <th>DRINKS</th>\n",
       "      <th>TEMPERATURE</th>\n",
       "      <th>PRECIP</th>\n",
       "    </tr>\n",
       "  </thead>\n",
       "  <tbody>\n",
       "    <tr>\n",
       "      <th>HOUR</th>\n",
       "      <td>1.000000</td>\n",
       "      <td>-0.006322</td>\n",
       "      <td>-0.068066</td>\n",
       "      <td>0.093179</td>\n",
       "      <td>-0.061868</td>\n",
       "      <td>-0.047194</td>\n",
       "      <td>0.002848</td>\n",
       "    </tr>\n",
       "    <tr>\n",
       "      <th>PICKUP</th>\n",
       "      <td>-0.006322</td>\n",
       "      <td>1.000000</td>\n",
       "      <td>-0.637112</td>\n",
       "      <td>-0.176837</td>\n",
       "      <td>-0.046693</td>\n",
       "      <td>0.013856</td>\n",
       "      <td>-0.044497</td>\n",
       "    </tr>\n",
       "    <tr>\n",
       "      <th>IN_STORE</th>\n",
       "      <td>-0.068066</td>\n",
       "      <td>-0.637112</td>\n",
       "      <td>1.000000</td>\n",
       "      <td>-0.645959</td>\n",
       "      <td>0.012734</td>\n",
       "      <td>-0.026696</td>\n",
       "      <td>-0.065803</td>\n",
       "    </tr>\n",
       "    <tr>\n",
       "      <th>DELIVERY</th>\n",
       "      <td>0.093179</td>\n",
       "      <td>-0.176837</td>\n",
       "      <td>-0.645959</td>\n",
       "      <td>1.000000</td>\n",
       "      <td>0.029984</td>\n",
       "      <td>0.020407</td>\n",
       "      <td>0.128077</td>\n",
       "    </tr>\n",
       "    <tr>\n",
       "      <th>DRINKS</th>\n",
       "      <td>-0.061868</td>\n",
       "      <td>-0.046693</td>\n",
       "      <td>0.012734</td>\n",
       "      <td>0.029984</td>\n",
       "      <td>1.000000</td>\n",
       "      <td>0.460687</td>\n",
       "      <td>-0.042215</td>\n",
       "    </tr>\n",
       "    <tr>\n",
       "      <th>TEMPERATURE</th>\n",
       "      <td>-0.047194</td>\n",
       "      <td>0.013856</td>\n",
       "      <td>-0.026696</td>\n",
       "      <td>0.020407</td>\n",
       "      <td>0.460687</td>\n",
       "      <td>1.000000</td>\n",
       "      <td>-0.028219</td>\n",
       "    </tr>\n",
       "    <tr>\n",
       "      <th>PRECIP</th>\n",
       "      <td>0.002848</td>\n",
       "      <td>-0.044497</td>\n",
       "      <td>-0.065803</td>\n",
       "      <td>0.128077</td>\n",
       "      <td>-0.042215</td>\n",
       "      <td>-0.028219</td>\n",
       "      <td>1.000000</td>\n",
       "    </tr>\n",
       "  </tbody>\n",
       "</table>\n",
       "</div>"
      ],
      "text/plain": [
       "                 HOUR    PICKUP  IN_STORE  DELIVERY    DRINKS  TEMPERATURE  \\\n",
       "HOUR         1.000000 -0.006322 -0.068066  0.093179 -0.061868    -0.047194   \n",
       "PICKUP      -0.006322  1.000000 -0.637112 -0.176837 -0.046693     0.013856   \n",
       "IN_STORE    -0.068066 -0.637112  1.000000 -0.645959  0.012734    -0.026696   \n",
       "DELIVERY     0.093179 -0.176837 -0.645959  1.000000  0.029984     0.020407   \n",
       "DRINKS      -0.061868 -0.046693  0.012734  0.029984  1.000000     0.460687   \n",
       "TEMPERATURE -0.047194  0.013856 -0.026696  0.020407  0.460687     1.000000   \n",
       "PRECIP       0.002848 -0.044497 -0.065803  0.128077 -0.042215    -0.028219   \n",
       "\n",
       "               PRECIP  \n",
       "HOUR         0.002848  \n",
       "PICKUP      -0.044497  \n",
       "IN_STORE    -0.065803  \n",
       "DELIVERY     0.128077  \n",
       "DRINKS      -0.042215  \n",
       "TEMPERATURE -0.028219  \n",
       "PRECIP       1.000000  "
      ]
     },
     "execution_count": 70,
     "metadata": {},
     "output_type": "execute_result"
    }
   ],
   "source": [
    "# Looking at the new dataframe's correlation\n",
    "orders_weather.corr()"
   ]
  },
  {
   "cell_type": "code",
   "execution_count": 72,
   "metadata": {},
   "outputs": [
    {
     "data": {
      "text/plain": [
       "<matplotlib.axes._subplots.AxesSubplot at 0x14496f590>"
      ]
     },
     "execution_count": 72,
     "metadata": {},
     "output_type": "execute_result"
    },
    {
     "data": {
      "image/png": "[encoded data removed]",
      "text/plain": [
       "<Figure size 432x288 with 2 Axes>"
      ]
     },
     "metadata": {
      "needs_background": "light"
     },
     "output_type": "display_data"
    }
   ],
   "source": [
    "# heatmap using seaborn library for better visualization\n",
    "sns.heatmap(orders_weather.corr())"
   ]
  },
  {
   "cell_type": "code",
   "execution_count": 78,
   "metadata": {},
   "outputs": [
    {
     "data": {
      "text/plain": [
       "<matplotlib.axes._subplots.AxesSubplot at 0x146127150>"
      ]
     },
     "execution_count": 78,
     "metadata": {},
     "output_type": "execute_result"
    },
    {
     "data": {
      "image/png": "[encoded data removed]",
      "text/plain": [
       "<Figure size 432x288 with 1 Axes>"
      ]
     },
     "metadata": {
      "needs_background": "light"
     },
     "output_type": "display_data"
    }
   ],
   "source": [
    "# checking the mean of deliveries made based oon the weather\n",
    "orders_weather.groupby((orders_weather.TEMPERATURE / 10).round()*10).DELIVERY.mean().plot()"
   ]
  },
  {
   "cell_type": "code",
   "execution_count": 83,
   "metadata": {},
   "outputs": [
    {
     "data": {
      "text/plain": [
       "<matplotlib.axes._subplots.AxesSubplot at 0x1461276d0>"
      ]
     },
     "execution_count": 83,
     "metadata": {},
     "output_type": "execute_result"
    },
    {
     "data": {
      "image/png": "[encoded data removed]",
      "text/plain": [
       "<Figure size 432x288 with 1 Axes>"
      ]
     },
     "metadata": {
      "needs_background": "light"
     },
     "output_type": "display_data"
    }
   ],
   "source": [
    "# checking the mean of pick ups made based oon the weather\n",
    "orders_weather.groupby((orders_weather.TEMPERATURE / 10).round()*10).PICKUP.mean().plot()"
   ]
  },
  {
   "cell_type": "code",
   "execution_count": 85,
   "metadata": {},
   "outputs": [
    {
     "data": {
      "text/plain": [
       "<matplotlib.axes._subplots.AxesSubplot at 0x1464f1210>"
      ]
     },
     "execution_count": 85,
     "metadata": {},
     "output_type": "execute_result"
    },
    {
     "data": {
      "image/png": "[encoded data removed]",
      "text/plain": [
       "<Figure size 432x288 with 1 Axes>"
      ]
     },
     "metadata": {
      "needs_background": "light"
     },
     "output_type": "display_data"
    }
   ],
   "source": [
    "# checking the mean of in store eating made based oon the weather\n",
    "orders_weather.groupby((orders_weather.TEMPERATURE / 10).round()*10).IN_STORE.mean().plot()"
   ]
  },
  {
   "cell_type": "markdown",
   "metadata": {},
   "source": [
    "when it was cold there were a lot more deliveries than when it was hot"
   ]
  },
  {
   "cell_type": "code",
   "execution_count": null,
   "metadata": {},
   "outputs": [],
   "source": []
  }
 ],
 "metadata": {
  "kernelspec": {
   "display_name": "Python 3",
   "language": "python",
   "name": "python3"
  },
  "language_info": {
   "codemirror_mode": {
    "name": "ipython",
    "version": 3
   },
   "file_extension": ".py",
   "mimetype": "text/x-python",
   "name": "python",
   "nbconvert_exporter": "python",
   "pygments_lexer": "ipython3",
   "version": "3.7.6"
  }
 },
 "nbformat": 4,
 "nbformat_minor": 4
}
